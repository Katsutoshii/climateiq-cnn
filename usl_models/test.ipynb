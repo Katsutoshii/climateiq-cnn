{
 "cells": [
  {
   "cell_type": "code",
   "execution_count": 1,
   "metadata": {},
   "outputs": [
    {
     "name": "stdout",
     "output_type": "stream",
     "text": [
      "env: TF_FORCE_GPU_ALLOW_GROWTH=true\n"
     ]
    },
    {
     "name": "stderr",
     "output_type": "stream",
     "text": [
      "2024-07-04 14:59:48.148404: E external/local_xla/xla/stream_executor/cuda/cuda_dnn.cc:9261] Unable to register cuDNN factory: Attempting to register factory for plugin cuDNN when one has already been registered\n",
      "2024-07-04 14:59:48.148461: E external/local_xla/xla/stream_executor/cuda/cuda_fft.cc:607] Unable to register cuFFT factory: Attempting to register factory for plugin cuFFT when one has already been registered\n",
      "2024-07-04 14:59:48.149149: E external/local_xla/xla/stream_executor/cuda/cuda_blas.cc:1515] Unable to register cuBLAS factory: Attempting to register factory for plugin cuBLAS when one has already been registered\n",
      "2024-07-04 14:59:48.153661: I tensorflow/core/platform/cpu_feature_guard.cc:182] This TensorFlow binary is optimized to use available CPU instructions in performance-critical operations.\n",
      "To enable the following instructions: AVX2 FMA, in other operations, rebuild TensorFlow with the appropriate compiler flags.\n",
      "2024-07-04 14:59:48.824135: W tensorflow/compiler/tf2tensorrt/utils/py_utils.cc:38] TF-TRT Warning: Could not find TensorRT\n",
      "2024-07-04 14:59:49.838587: I external/local_xla/xla/stream_executor/cuda/cuda_executor.cc:887] could not open file to read NUMA node: /sys/bus/pci/devices/0000:01:00.0/numa_node\n",
      "Your kernel may have been built without NUMA support.\n",
      "2024-07-04 14:59:49.862832: I external/local_xla/xla/stream_executor/cuda/cuda_executor.cc:887] could not open file to read NUMA node: /sys/bus/pci/devices/0000:01:00.0/numa_node\n",
      "Your kernel may have been built without NUMA support.\n",
      "2024-07-04 14:59:49.862875: I external/local_xla/xla/stream_executor/cuda/cuda_executor.cc:887] could not open file to read NUMA node: /sys/bus/pci/devices/0000:01:00.0/numa_node\n",
      "Your kernel may have been built without NUMA support.\n",
      "2024-07-04 14:59:49.865543: I external/local_xla/xla/stream_executor/cuda/cuda_executor.cc:887] could not open file to read NUMA node: /sys/bus/pci/devices/0000:01:00.0/numa_node\n",
      "Your kernel may have been built without NUMA support.\n",
      "2024-07-04 14:59:49.865594: I external/local_xla/xla/stream_executor/cuda/cuda_executor.cc:887] could not open file to read NUMA node: /sys/bus/pci/devices/0000:01:00.0/numa_node\n",
      "Your kernel may have been built without NUMA support.\n",
      "2024-07-04 14:59:49.865617: I external/local_xla/xla/stream_executor/cuda/cuda_executor.cc:887] could not open file to read NUMA node: /sys/bus/pci/devices/0000:01:00.0/numa_node\n",
      "Your kernel may have been built without NUMA support.\n",
      "2024-07-04 14:59:50.011156: I external/local_xla/xla/stream_executor/cuda/cuda_executor.cc:887] could not open file to read NUMA node: /sys/bus/pci/devices/0000:01:00.0/numa_node\n",
      "Your kernel may have been built without NUMA support.\n",
      "2024-07-04 14:59:50.011249: I external/local_xla/xla/stream_executor/cuda/cuda_executor.cc:887] could not open file to read NUMA node: /sys/bus/pci/devices/0000:01:00.0/numa_node\n",
      "Your kernel may have been built without NUMA support.\n",
      "2024-07-04 14:59:50.011260: I tensorflow/core/common_runtime/gpu/gpu_device.cc:2022] Could not identify NUMA node of platform GPU id 0, defaulting to 0.  Your kernel may not have been built with NUMA support.\n",
      "2024-07-04 14:59:50.011271: W tensorflow/core/common_runtime/gpu/gpu_bfc_allocator.cc:47] Overriding orig_value setting because the TF_FORCE_GPU_ALLOW_GROWTH environment variable is set. Original config value was 0.\n",
      "2024-07-04 14:59:50.011302: I external/local_xla/xla/stream_executor/cuda/cuda_executor.cc:887] could not open file to read NUMA node: /sys/bus/pci/devices/0000:01:00.0/numa_node\n",
      "Your kernel may have been built without NUMA support.\n",
      "2024-07-04 14:59:50.011330: I tensorflow/core/common_runtime/gpu/gpu_device.cc:1929] Created device /job:localhost/replica:0/task:0/device:GPU:0 with 7537 MB memory:  -> device: 0, name: NVIDIA GeForce RTX 3080, pci bus id: 0000:01:00.0, compute capability: 8.6\n"
     ]
    },
    {
     "name": "stdout",
     "output_type": "stream",
     "text": [
      "st_input shape: Tensor(\"flood_conv_lstm/Shape:0\", shape=(5,), dtype=int32)\n",
      "geo_input shape: Tensor(\"flood_conv_lstm/Shape_1:0\", shape=(4,), dtype=int32)\n",
      "temp_input shape: Tensor(\"flood_conv_lstm/Shape_2:0\", shape=(3,), dtype=int32)\n",
      "st_input shape: Tensor(\"flood_conv_lstm/Shape:0\", shape=(5,), dtype=int32)\n",
      "geo_input shape: Tensor(\"flood_conv_lstm/Shape_1:0\", shape=(4,), dtype=int32)\n",
      "temp_input shape: Tensor(\"flood_conv_lstm/Shape_2:0\", shape=(3,), dtype=int32)\n",
      "\n",
      "---------------------------------------------------------\n",
      "Generate sample 0.\n",
      "\n",
      "---------------------------------------------------------\n",
      "Generate sample 1.\n"
     ]
    },
    {
     "name": "stderr",
     "output_type": "stream",
     "text": [
      "2024-07-04 14:59:52.938301: I external/local_xla/xla/stream_executor/cuda/cuda_dnn.cc:454] Loaded cuDNN version 8904\n",
      "2024-07-04 14:59:56.434936: I external/local_xla/xla/service/service.cc:168] XLA service 0x7f7202df49a0 initialized for platform CUDA (this does not guarantee that XLA will be used). Devices:\n",
      "2024-07-04 14:59:56.434985: I external/local_xla/xla/service/service.cc:176]   StreamExecutor device (0): NVIDIA GeForce RTX 3080, Compute Capability 8.6\n",
      "2024-07-04 14:59:56.445318: I tensorflow/compiler/mlir/tensorflow/utils/dump_mlir_util.cc:269] disabling MLIR crash reproducer, set env var `MLIR_CRASH_REPRODUCER_DIRECTORY` to enable.\n",
      "WARNING: All log messages before absl::InitializeLog() is called are written to STDERR\n",
      "I0000 00:00:1720130396.569367    4826 device_compiler.h:186] Compiled cluster using XLA!  This line is logged at most once for the lifetime of the process.\n"
     ]
    },
    {
     "name": "stdout",
     "output_type": "stream",
     "text": [
      "      1/Unknown - 9s 9s/step - loss: 1.0002 - mean_absolute_error: 0.7980 - root_mean_squared_error: 1.0001\n",
      "---------------------------------------------------------\n",
      "Generate sample 2.\n",
      "      2/Unknown - 9s 72ms/step - loss: 1.0002 - mean_absolute_error: 0.7979 - root_mean_squared_error: 1.0001\n",
      "---------------------------------------------------------\n",
      "Generate sample 3.\n",
      "      3/Unknown - 9s 69ms/step - loss: 1.0000 - mean_absolute_error: 0.7979 - root_mean_squared_error: 1.0000\n",
      "---------------------------------------------------------\n",
      "Generate sample 4.\n",
      "      4/Unknown - 9s 67ms/step - loss: 0.9998 - mean_absolute_error: 0.7978 - root_mean_squared_error: 0.9999\n",
      "---------------------------------------------------------\n",
      "Generate sample 5.\n",
      "      5/Unknown - 9s 66ms/step - loss: 1.0000 - mean_absolute_error: 0.7979 - root_mean_squared_error: 1.0000\n",
      "---------------------------------------------------------\n",
      "Generate sample 6.\n",
      "      6/Unknown - 9s 66ms/step - loss: 1.0000 - mean_absolute_error: 0.7979 - root_mean_squared_error: 1.0000\n",
      "---------------------------------------------------------\n",
      "Generate sample 7.\n",
      "      7/Unknown - 9s 66ms/step - loss: 1.0000 - mean_absolute_error: 0.7979 - root_mean_squared_error: 1.0000\n",
      "---------------------------------------------------------\n",
      "Generate sample 8.\n",
      "      8/Unknown - 9s 66ms/step - loss: 1.0001 - mean_absolute_error: 0.7979 - root_mean_squared_error: 1.0000\n",
      "---------------------------------------------------------\n",
      "Generate sample 9.\n",
      "10/10 [==============================] - 10s 69ms/step - loss: 1.0000 - mean_absolute_error: 0.7979 - root_mean_squared_error: 1.0000\n"
     ]
    },
    {
     "data": {
      "text/plain": [
       "<keras.src.callbacks.History at 0x7f7414112350>"
      ]
     },
     "execution_count": 1,
     "metadata": {},
     "output_type": "execute_result"
    }
   ],
   "source": [
    "%load_ext autoreload\n",
    "%autoreload 2\n",
    "%env TF_FORCE_GPU_ALLOW_GROWTH=true\n",
    "\n",
    "from usl_models.flood_ml import model_params\n",
    "from usl_models.flood_ml import model\n",
    "from usl_models.flood_ml import fake_data\n",
    "from usl_models.flood_ml import constants\n",
    "\n",
    "\n",
    "model_dir = \"gs://usl_models_bucket/flood_model\"\n",
    "lstm_units = 128\n",
    "lstm_kernel_size = 3\n",
    "lstm_dropout = 0.2\n",
    "lstm_recurrent_dropout = 0.2\n",
    "epochs = 1\n",
    "\n",
    "config = fake_data.DatasetConfig(width = 1000, height = 1000, batch_size=1, storm_duration=4)\n",
    "# Create FloodModelParams from hyperparameters\n",
    "params = model_params.FloodModelParams(\n",
    "    batch_size=config.batch_size,\n",
    "    lstm_units=lstm_units,\n",
    "    lstm_kernel_size=lstm_kernel_size,\n",
    "    lstm_dropout=lstm_dropout,\n",
    "    lstm_recurrent_dropout=lstm_recurrent_dropout,\n",
    "    epochs=epochs,\n",
    ")\n",
    "model_history = []\n",
    "\n",
    "flood_model = model.FloodModel(params, spatial_dims=(config.height, config.width))\n",
    "\n",
    "dataset, storm_duration = fake_data.get_fake_dataset(config)\n",
    "flood_model._model.fit(dataset)"
   ]
  }
 ],
 "metadata": {
  "kernelspec": {
   "display_name": ".venv",
   "language": "python",
   "name": "python3"
  },
  "language_info": {
   "codemirror_mode": {
    "name": "ipython",
    "version": 3
   },
   "file_extension": ".py",
   "mimetype": "text/x-python",
   "name": "python",
   "nbconvert_exporter": "python",
   "pygments_lexer": "ipython3",
   "version": "3.10.12"
  }
 },
 "nbformat": 4,
 "nbformat_minor": 2
}
