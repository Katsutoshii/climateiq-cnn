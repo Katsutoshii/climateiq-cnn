{
 "cells": [
  {
   "cell_type": "markdown",
   "metadata": {},
   "source": [
    "# Flood ConvLSTM training"
   ]
  },
  {
   "cell_type": "code",
   "execution_count": 1,
   "metadata": {},
   "outputs": [
    {
     "name": "stdout",
     "output_type": "stream",
     "text": [
      "env: TF_FORCE_GPU_ALLOW_GROWTH=true\n"
     ]
    },
    {
     "name": "stderr",
     "output_type": "stream",
     "text": [
      "2024-07-09 05:55:43.820860: I tensorflow/core/util/port.cc:113] oneDNN custom operations are on. You may see slightly different numerical results due to floating-point round-off errors from different computation orders. To turn them off, set the environment variable `TF_ENABLE_ONEDNN_OPTS=0`.\n",
      "2024-07-09 05:55:43.871548: E external/local_xla/xla/stream_executor/cuda/cuda_dnn.cc:9261] Unable to register cuDNN factory: Attempting to register factory for plugin cuDNN when one has already been registered\n",
      "2024-07-09 05:55:43.871581: E external/local_xla/xla/stream_executor/cuda/cuda_fft.cc:607] Unable to register cuFFT factory: Attempting to register factory for plugin cuFFT when one has already been registered\n",
      "2024-07-09 05:55:43.872804: E external/local_xla/xla/stream_executor/cuda/cuda_blas.cc:1515] Unable to register cuBLAS factory: Attempting to register factory for plugin cuBLAS when one has already been registered\n",
      "2024-07-09 05:55:43.880642: I tensorflow/core/platform/cpu_feature_guard.cc:182] This TensorFlow binary is optimized to use available CPU instructions in performance-critical operations.\n",
      "To enable the following instructions: AVX2 AVX512F AVX512_VNNI FMA, in other operations, rebuild TensorFlow with the appropriate compiler flags.\n"
     ]
    },
    {
     "data": {
      "text/plain": [
       "[PhysicalDevice(name='/physical_device:GPU:0', device_type='GPU')]"
      ]
     },
     "execution_count": 1,
     "metadata": {},
     "output_type": "execute_result"
    }
   ],
   "source": [
    "%env TF_FORCE_GPU_ALLOW_GROWTH=true\n",
    "%load_ext autoreload\n",
    "%autoreload 2\n",
    "import tensorflow as tf\n",
    "tf.config.list_physical_devices('GPU')"
   ]
  },
  {
   "cell_type": "code",
   "execution_count": 2,
   "metadata": {},
   "outputs": [
    {
     "name": "stdout",
     "output_type": "stream",
     "text": [
      "Initializing IncrementalTrainDataGenerator...\n",
      "Initializing FirestoreDataHandler...\n",
      "Initializing FirestoreDataHandler...\n"
     ]
    },
    {
     "name": "stderr",
     "output_type": "stream",
     "text": [
      "2024-07-09 05:55:46.603131: W tensorflow/core/common_runtime/gpu/gpu_bfc_allocator.cc:47] Overriding orig_value setting because the TF_FORCE_GPU_ALLOW_GROWTH environment variable is set. Original config value was 0.\n",
      "2024-07-09 05:55:46.604436: I tensorflow/core/common_runtime/gpu/gpu_device.cc:1929] Created device /job:localhost/replica:0/task:0/device:GPU:0 with 37077 MB memory:  -> device: 0, name: NVIDIA A100-SXM4-40GB, pci bus id: 0000:00:04.0, compute capability: 8.0\n"
     ]
    }
   ],
   "source": [
    "from usl_models.flood_ml.trainingdataset import IncrementalTrainDataGenerator\n",
    "\n",
    "sim_name = \"Manhattan-config_v1%2FRainfall_Data_1.txt\"\n",
    "batch_size = 4\n",
    "\n",
    "generator = IncrementalTrainDataGenerator()\n",
    "dataset = generator.load_datasets([sim_name], batch_size=batch_size, max_chunks=8)\n"
   ]
  },
  {
   "cell_type": "code",
   "execution_count": 9,
   "metadata": {},
   "outputs": [],
   "source": [
    "from usl_models.flood_ml.model import FloodModel\n",
    "from usl_models.flood_ml.model_params import FloodModelParams\n",
    "\n",
    "model = FloodModel(\n",
    "    model_params=FloodModelParams(batch_size=batch_size))"
   ]
  },
  {
   "cell_type": "code",
   "execution_count": 4,
   "metadata": {},
   "outputs": [
    {
     "name": "stderr",
     "output_type": "stream",
     "text": [
      "2024-07-09 05:55:47.258641: I external/local_tsl/tsl/profiler/lib/profiler_session.cc:104] Profiler session initializing.\n",
      "2024-07-09 05:55:47.258671: I external/local_tsl/tsl/profiler/lib/profiler_session.cc:119] Profiler session started.\n",
      "2024-07-09 05:55:47.258707: I external/local_xla/xla/backends/profiler/gpu/cupti_tracer.cc:1883] Profiler found 1 GPUs\n",
      "2024-07-09 05:55:47.280240: I external/local_tsl/tsl/profiler/lib/profiler_session.cc:131] Profiler session tear down.\n",
      "2024-07-09 05:55:47.280366: I external/local_xla/xla/backends/profiler/gpu/cupti_tracer.cc:2017] CUPTI activity buffer flushed\n",
      "2024-07-09 05:55:50.898362: E tensorflow/core/grappler/optimizers/meta_optimizer.cc:961] layout failed: INVALID_ARGUMENT: Size of values 0 does not match size of permutation 4 @ fanin shape inflood_conv_lstm/conv_lstm/conv_lstm2d/while/body/_1/flood_conv_lstm/conv_lstm/conv_lstm2d/while/dropout_7/SelectV2-2-TransposeNHWCToNCHW-LayoutOptimizer\n"
     ]
    },
    {
     "name": "stdout",
     "output_type": "stream",
     "text": [
      "Generating feature and label tensors...\n",
      "Finding documents under collection: simulations\n",
      "Found documents under collection: simulations\n",
      "Fetching rainfall configuration...\n",
      "Configuration:  config_v1%2FRainfall_Data_1.txt\n",
      "Rainfall duration:  19\n",
      "The output label tensor will initially be of shape:  [1000, 1000, 19]\n",
      "Creating feature chunks...\n",
      "Finding documents under collection: simulations\n",
      "Found documents under collection: simulations\n",
      "Creating label chunks...\n",
      "Finding documents under collection: simulations\n",
      "Found documents under collection: simulations\n",
      "Finding documents under collection: simulations\n",
      "Found documents under collection: simulations\n",
      "Length of common indices: 66\n",
      "Feature file: gs://test-climateiq-study-area-feature-chunks/Manhattan/chunk_0_0.npy\n",
      "Label file: gs://test-climateiq-study-area-label-chunks/Manhattan/config_v1/Rainfall_Data_1.txt/0_0.npy\n",
      "Finished creating feature and label tensors...\n",
      "Feature tensor shape: (1000, 1000, 8)\n",
      "Label tensor shape: (19, 1000, 1000)\n",
      "\n",
      "\n",
      "Generating temporal tensors...\n",
      "Creating temporal chunks...\n",
      "Finding documents under collection: simulations\n",
      "Found documents under collection: simulations\n",
      "Configuration:  config_v1%2FRainfall_Data_1.txt\n",
      "Fetching document: config_v1%2FRainfall_Data_1.txt\n",
      "Loading temporal tensor from gs://test-climateiq-study-area-feature-chunks/rainfall/config_v1/Rainfall_Data_1.npy...\n",
      "Temporal tensor shape:  (864, 6)\n"
     ]
    },
    {
     "name": "stderr",
     "output_type": "stream",
     "text": [
      "2024-07-09 05:55:56.061511: I external/local_xla/xla/stream_executor/cuda/cuda_dnn.cc:454] Loaded cuDNN version 8904\n",
      "2024-07-09 05:56:00.445664: I external/local_xla/xla/service/service.cc:168] XLA service 0x7f463807d5c0 initialized for platform CUDA (this does not guarantee that XLA will be used). Devices:\n",
      "2024-07-09 05:56:00.445701: I external/local_xla/xla/service/service.cc:176]   StreamExecutor device (0): NVIDIA A100-SXM4-40GB, Compute Capability 8.0\n",
      "2024-07-09 05:56:00.452280: I tensorflow/compiler/mlir/tensorflow/utils/dump_mlir_util.cc:269] disabling MLIR crash reproducer, set env var `MLIR_CRASH_REPRODUCER_DIRECTORY` to enable.\n",
      "WARNING: All log messages before absl::InitializeLog() is called are written to STDERR\n",
      "I0000 00:00:1720504560.567490   58715 device_compiler.h:186] Compiled cluster using XLA!  This line is logged at most once for the lifetime of the process.\n"
     ]
    },
    {
     "name": "stdout",
     "output_type": "stream",
     "text": [
      "      4/Unknown - 24s 319ms/step - loss: 0.0048 - mean_absolute_error: 0.0260 - root_mean_squared_error: 0.0695Feature file: gs://test-climateiq-study-area-feature-chunks/Manhattan/chunk_0_1.npy\n",
      "Label file: gs://test-climateiq-study-area-label-chunks/Manhattan/config_v1/Rainfall_Data_1.txt/0_1.npy\n",
      "Finished creating feature and label tensors...\n",
      "Feature tensor shape: (1000, 1000, 8)\n",
      "Label tensor shape: (19, 1000, 1000)\n",
      "\n",
      "\n",
      "      8/Unknown - 26s 431ms/step - loss: 0.0024 - mean_absolute_error: 0.0130 - root_mean_squared_error: 0.0491Feature file: gs://test-climateiq-study-area-feature-chunks/Manhattan/chunk_0_10.npy\n",
      "Label file: gs://test-climateiq-study-area-label-chunks/Manhattan/config_v1/Rainfall_Data_1.txt/0_10.npy\n",
      "      9/Unknown - 26s 418ms/step - loss: 0.0021 - mean_absolute_error: 0.0115 - root_mean_squared_error: 0.0463Finished creating feature and label tensors...\n",
      "Feature tensor shape: (1000, 1000, 8)\n",
      "Label tensor shape: (19, 1000, 1000)\n",
      "\n",
      "\n",
      "     12/Unknown - 28s 446ms/step - loss: 0.0024 - mean_absolute_error: 0.0091 - root_mean_squared_error: 0.0493Feature file: gs://test-climateiq-study-area-feature-chunks/Manhattan/chunk_0_2.npy\n",
      "Label file: gs://test-climateiq-study-area-label-chunks/Manhattan/config_v1/Rainfall_Data_1.txt/0_2.npy\n",
      "     14/Unknown - 28s 424ms/step - loss: 0.0037 - mean_absolute_error: 0.0084 - root_mean_squared_error: 0.0607Finished creating feature and label tensors...\n",
      "Feature tensor shape: (1000, 1000, 8)\n",
      "Label tensor shape: (19, 1000, 1000)\n",
      "\n",
      "\n",
      "     17/Unknown - 30s 427ms/step - loss: 0.0032 - mean_absolute_error: 0.0070 - root_mean_squared_error: 0.0567Feature file: gs://test-climateiq-study-area-feature-chunks/Manhattan/chunk_0_3.npy\n",
      "Label file: gs://test-climateiq-study-area-label-chunks/Manhattan/config_v1/Rainfall_Data_1.txt/0_3.npy\n",
      "     19/Unknown - 30s 414ms/step - loss: 0.0029 - mean_absolute_error: 0.0062 - root_mean_squared_error: 0.0536Finished creating feature and label tensors...\n",
      "Feature tensor shape: (1000, 1000, 8)\n",
      "Label tensor shape: (19, 1000, 1000)\n",
      "\n",
      "\n",
      "     22/Unknown - 31s 410ms/step - loss: 0.0025 - mean_absolute_error: 0.0054 - root_mean_squared_error: 0.0498Feature file: gs://test-climateiq-study-area-feature-chunks/Manhattan/chunk_0_4.npy\n",
      "Label file: gs://test-climateiq-study-area-label-chunks/Manhattan/config_v1/Rainfall_Data_1.txt/0_4.npy\n",
      "     23/Unknown - 32s 405ms/step - loss: 0.0024 - mean_absolute_error: 0.0052 - root_mean_squared_error: 0.0487Finished creating feature and label tensors...\n",
      "Feature tensor shape: (1000, 1000, 8)\n",
      "Label tensor shape: (19, 1000, 1000)\n",
      "\n",
      "\n",
      "     27/Unknown - 34s 429ms/step - loss: 0.0020 - mean_absolute_error: 0.0044 - root_mean_squared_error: 0.0450Feature file: gs://test-climateiq-study-area-feature-chunks/Manhattan/chunk_0_5.npy\n",
      "Label file: gs://test-climateiq-study-area-label-chunks/Manhattan/config_v1/Rainfall_Data_1.txt/0_5.npy\n",
      "     28/Unknown - 34s 425ms/step - loss: 0.0020 - mean_absolute_error: 0.0042 - root_mean_squared_error: 0.0442Finished creating feature and label tensors...\n",
      "Feature tensor shape: (1000, 1000, 8)\n",
      "Label tensor shape: (19, 1000, 1000)\n",
      "\n",
      "\n",
      "     31/Unknown - 36s 438ms/step - loss: 0.0018 - mean_absolute_error: 0.0038 - root_mean_squared_error: 0.0420Feature file: gs://test-climateiq-study-area-feature-chunks/Manhattan/chunk_0_6.npy\n",
      "Label file: gs://test-climateiq-study-area-label-chunks/Manhattan/config_v1/Rainfall_Data_1.txt/0_6.npy\n",
      "     33/Unknown - 36s 430ms/step - loss: 0.0017 - mean_absolute_error: 0.0036 - root_mean_squared_error: 0.0407Finished creating feature and label tensors...\n",
      "Feature tensor shape: (1000, 1000, 8)\n",
      "Label tensor shape: (19, 1000, 1000)\n",
      "\n",
      "\n",
      "     36/Unknown - 38s 427ms/step - loss: 0.0015 - mean_absolute_error: 0.0033 - root_mean_squared_error: 0.0390Feature file: gs://test-climateiq-study-area-feature-chunks/Manhattan/chunk_0_7.npy\n",
      "Label file: gs://test-climateiq-study-area-label-chunks/Manhattan/config_v1/Rainfall_Data_1.txt/0_7.npy\n",
      "     38/Unknown - 38s 420ms/step - loss: 0.0014 - mean_absolute_error: 0.0031 - root_mean_squared_error: 0.0379Finished creating feature and label tensors...\n",
      "Feature tensor shape: (1000, 1000, 8)\n",
      "Label tensor shape: (19, 1000, 1000)\n",
      "\n",
      "\n",
      "38/38 [==============================] - 39s 428ms/step - loss: 0.0014 - mean_absolute_error: 0.0031 - root_mean_squared_error: 0.0379\n"
     ]
    },
    {
     "name": "stderr",
     "output_type": "stream",
     "text": [
      "2024-07-09 05:56:25.767909: I tensorflow/core/framework/local_rendezvous.cc:421] Local rendezvous recv item cancelled. Key hash: 17945659348961395899\n",
      "2024-07-09 05:56:25.767962: I tensorflow/core/framework/local_rendezvous.cc:421] Local rendezvous recv item cancelled. Key hash: 13285094544558989065\n",
      "2024-07-09 05:56:25.767980: I tensorflow/core/framework/local_rendezvous.cc:421] Local rendezvous recv item cancelled. Key hash: 8909107132821127432\n",
      "2024-07-09 05:56:25.767990: I tensorflow/core/framework/local_rendezvous.cc:421] Local rendezvous recv item cancelled. Key hash: 1826739159469585640\n",
      "2024-07-09 05:56:25.768000: I tensorflow/core/framework/local_rendezvous.cc:421] Local rendezvous recv item cancelled. Key hash: 9168391539428460184\n",
      "2024-07-09 05:56:25.768062: I tensorflow/core/framework/local_rendezvous.cc:421] Local rendezvous recv item cancelled. Key hash: 8435254036693776128\n"
     ]
    },
    {
     "data": {
      "text/plain": [
       "<keras.src.callbacks.History at 0x7f46fc141a80>"
      ]
     },
     "execution_count": 4,
     "metadata": {},
     "output_type": "execute_result"
    }
   ],
   "source": [
    "model.fit(dataset)"
   ]
  },
  {
   "cell_type": "code",
   "execution_count": 8,
   "metadata": {},
   "outputs": [
    {
     "name": "stdout",
     "output_type": "stream",
     "text": [
      "Initializing IncrementalTrainDataGenerator...\n",
      "Initializing FirestoreDataHandler...\n",
      "Initializing FirestoreDataHandler...\n",
      "Generating feature and label tensors...\n",
      "Finding documents under collection: simulations\n",
      "Found documents under collection: simulations\n",
      "Fetching rainfall configuration...\n",
      "Configuration:  config_v1%2FRainfall_Data_1.txt\n",
      "Rainfall duration:  19\n",
      "The output label tensor will initially be of shape:  [1000, 1000, 19]\n",
      "Creating feature chunks...\n",
      "Finding documents under collection: simulations\n",
      "Found documents under collection: simulations\n",
      "Creating label chunks...\n",
      "Finding documents under collection: simulations\n",
      "Found documents under collection: simulations\n",
      "Finding documents under collection: simulations\n",
      "Found documents under collection: simulations\n",
      "Length of common indices: 66\n",
      "Feature file: gs://test-climateiq-study-area-feature-chunks/Manhattan/chunk_0_0.npy\n",
      "Label file: gs://test-climateiq-study-area-label-chunks/Manhattan/config_v1/Rainfall_Data_1.txt/0_0.npy\n",
      "Finished creating feature and label tensors...\n",
      "Feature tensor shape: (1000, 1000, 8)\n",
      "Label tensor shape: (19, 1000, 1000)\n",
      "\n",
      "\n",
      "Generating temporal tensors...\n",
      "Creating temporal chunks...\n",
      "Finding documents under collection: simulations\n",
      "Found documents under collection: simulations\n",
      "Configuration:  config_v1%2FRainfall_Data_1.txt\n",
      "Fetching document: config_v1%2FRainfall_Data_1.txt\n",
      "Loading temporal tensor from gs://test-climateiq-study-area-feature-chunks/rainfall/config_v1/Rainfall_Data_1.npy...\n",
      "Temporal tensor shape:  (864, 6)\n"
     ]
    }
   ],
   "source": [
    "generator = IncrementalTrainDataGenerator()\n",
    "dataset = generator.load_datasets([sim_name], batch_size=batch_size, max_chunks=8)\n",
    "inputs, labels = next(iter(dataset))\n",
    "inputs[\"spatiotemporal\"] = tf.zeros(shape=(1, 1000, 1000, 1))"
   ]
  },
  {
   "cell_type": "code",
   "execution_count": null,
   "metadata": {},
   "outputs": [],
   "source": [
    "# TODO(josiahkp)\n",
    "# predictions = model.call_n(inputs)"
   ]
  }
 ],
 "metadata": {
  "kernelspec": {
   "display_name": "base",
   "language": "python",
   "name": "python3"
  },
  "language_info": {
   "codemirror_mode": {
    "name": "ipython",
    "version": 3
   },
   "file_extension": ".py",
   "mimetype": "text/x-python",
   "name": "python",
   "nbconvert_exporter": "python",
   "pygments_lexer": "ipython3",
   "version": "3.10.14"
  }
 },
 "nbformat": 4,
 "nbformat_minor": 2
}
