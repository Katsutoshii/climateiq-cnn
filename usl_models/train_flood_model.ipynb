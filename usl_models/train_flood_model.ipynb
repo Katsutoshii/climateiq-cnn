{
 "cells": [
  {
   "cell_type": "markdown",
   "metadata": {},
   "source": [
    "# Flood ConvLSTM training"
   ]
  },
  {
   "cell_type": "code",
   "execution_count": 1,
   "metadata": {},
   "outputs": [
    {
     "name": "stdout",
     "output_type": "stream",
     "text": [
      "env: TF_FORCE_GPU_ALLOW_GROWTH=true\n"
     ]
    },
    {
     "name": "stderr",
     "output_type": "stream",
     "text": [
      "2024-07-15 20:34:05.559419: I tensorflow/core/platform/cpu_feature_guard.cc:210] This TensorFlow binary is optimized to use available CPU instructions in performance-critical operations.\n",
      "To enable the following instructions: AVX2 FMA, in other operations, rebuild TensorFlow with the appropriate compiler flags.\n",
      "2024-07-15 20:34:07.734413: I external/local_xla/xla/stream_executor/cuda/cuda_executor.cc:998] successful NUMA node read from SysFS had negative value (-1), but there must be at least one NUMA node, so returning NUMA node zero. See more at https://github.com/torvalds/linux/blob/v6.0/Documentation/ABI/testing/sysfs-bus-pci#L344-L355\n"
     ]
    },
    {
     "data": {
      "text/plain": [
       "[PhysicalDevice(name='/physical_device:GPU:0', device_type='GPU')]"
      ]
     },
     "execution_count": 1,
     "metadata": {},
     "output_type": "execute_result"
    },
    {
     "name": "stderr",
     "output_type": "stream",
     "text": [
      "2024-07-15 20:34:07.744481: I external/local_xla/xla/stream_executor/cuda/cuda_executor.cc:998] successful NUMA node read from SysFS had negative value (-1), but there must be at least one NUMA node, so returning NUMA node zero. See more at https://github.com/torvalds/linux/blob/v6.0/Documentation/ABI/testing/sysfs-bus-pci#L344-L355\n",
      "2024-07-15 20:34:07.746861: I external/local_xla/xla/stream_executor/cuda/cuda_executor.cc:998] successful NUMA node read from SysFS had negative value (-1), but there must be at least one NUMA node, so returning NUMA node zero. See more at https://github.com/torvalds/linux/blob/v6.0/Documentation/ABI/testing/sysfs-bus-pci#L344-L355\n"
     ]
    }
   ],
   "source": [
    "# Setup with GPU\n",
    "%env TF_FORCE_GPU_ALLOW_GROWTH=true\n",
    "%load_ext autoreload\n",
    "%autoreload 2\n",
    "import tensorflow as tf\n",
    "tf.config.list_physical_devices('GPU')"
   ]
  },
  {
   "cell_type": "code",
   "execution_count": 2,
   "metadata": {},
   "outputs": [
    {
     "name": "stderr",
     "output_type": "stream",
     "text": [
      "2024-07-15 20:34:07.938882: I external/local_xla/xla/stream_executor/cuda/cuda_executor.cc:998] successful NUMA node read from SysFS had negative value (-1), but there must be at least one NUMA node, so returning NUMA node zero. See more at https://github.com/torvalds/linux/blob/v6.0/Documentation/ABI/testing/sysfs-bus-pci#L344-L355\n",
      "2024-07-15 20:34:07.941382: I external/local_xla/xla/stream_executor/cuda/cuda_executor.cc:998] successful NUMA node read from SysFS had negative value (-1), but there must be at least one NUMA node, so returning NUMA node zero. See more at https://github.com/torvalds/linux/blob/v6.0/Documentation/ABI/testing/sysfs-bus-pci#L344-L355\n",
      "2024-07-15 20:34:07.943756: I external/local_xla/xla/stream_executor/cuda/cuda_executor.cc:998] successful NUMA node read from SysFS had negative value (-1), but there must be at least one NUMA node, so returning NUMA node zero. See more at https://github.com/torvalds/linux/blob/v6.0/Documentation/ABI/testing/sysfs-bus-pci#L344-L355\n",
      "2024-07-15 20:34:08.246528: I external/local_xla/xla/stream_executor/cuda/cuda_executor.cc:998] successful NUMA node read from SysFS had negative value (-1), but there must be at least one NUMA node, so returning NUMA node zero. See more at https://github.com/torvalds/linux/blob/v6.0/Documentation/ABI/testing/sysfs-bus-pci#L344-L355\n",
      "2024-07-15 20:34:08.248633: I external/local_xla/xla/stream_executor/cuda/cuda_executor.cc:998] successful NUMA node read from SysFS had negative value (-1), but there must be at least one NUMA node, so returning NUMA node zero. See more at https://github.com/torvalds/linux/blob/v6.0/Documentation/ABI/testing/sysfs-bus-pci#L344-L355\n",
      "2024-07-15 20:34:08.250574: W tensorflow/core/common_runtime/gpu/gpu_bfc_allocator.cc:47] Overriding orig_value setting because the TF_FORCE_GPU_ALLOW_GROWTH environment variable is set. Original config value was 0.\n",
      "2024-07-15 20:34:08.250638: I external/local_xla/xla/stream_executor/cuda/cuda_executor.cc:998] successful NUMA node read from SysFS had negative value (-1), but there must be at least one NUMA node, so returning NUMA node zero. See more at https://github.com/torvalds/linux/blob/v6.0/Documentation/ABI/testing/sysfs-bus-pci#L344-L355\n",
      "2024-07-15 20:34:08.252598: I tensorflow/core/common_runtime/gpu/gpu_device.cc:1928] Created device /job:localhost/replica:0/task:0/device:GPU:0 with 13764 MB memory:  -> device: 0, name: Tesla T4, pci bus id: 0000:00:04.0, compute capability: 7.5\n"
     ]
    }
   ],
   "source": [
    "# Load the dataset form firestore\n",
    "from usl_models.flood_ml.trainingdataset import IncrementalTrainDataGenerator\n",
    "\n",
    "sim_names = [\"Manhattan-config_v1%2FRainfall_Data_1.txt\", \"Manhattan-config_v1%2FRainfall_Data_2.txt\"]\n",
    "batch_size = 1 # On A100, use batch_size = 4\n",
    "\n",
    "generator = IncrementalTrainDataGenerator()\n",
    "dataset = generator.load_dataset_windowed(sim_names, batch_size=batch_size, max_chunks=8)\n"
   ]
  },
  {
   "cell_type": "code",
   "execution_count": 3,
   "metadata": {},
   "outputs": [],
   "source": [
    "# Initialize the model\n",
    "from usl_models.flood_ml.model import FloodModel\n",
    "from usl_models.flood_ml.model import Input\n",
    "from usl_models.flood_ml.model_params import FloodModelParams\n",
    "import keras\n",
    "model = FloodModel(\n",
    "    model_params=FloodModelParams(batch_size=batch_size))"
   ]
  },
  {
   "cell_type": "code",
   "execution_count": 4,
   "metadata": {},
   "outputs": [
    {
     "name": "stderr",
     "output_type": "stream",
     "text": [
      "2024-07-15 20:34:08.672646: I external/local_tsl/tsl/profiler/lib/profiler_session.cc:104] Profiler session initializing.\n",
      "2024-07-15 20:34:08.672675: I external/local_tsl/tsl/profiler/lib/profiler_session.cc:119] Profiler session started.\n",
      "2024-07-15 20:34:08.672718: I external/local_xla/xla/backends/profiler/gpu/cupti_tracer.cc:1239] Profiler found 1 GPUs\n",
      "2024-07-15 20:34:08.694181: I external/local_tsl/tsl/profiler/lib/profiler_session.cc:131] Profiler session tear down.\n",
      "2024-07-15 20:34:08.694432: I external/local_xla/xla/backends/profiler/gpu/cupti_tracer.cc:1364] CUPTI activity buffer flushed\n",
      "2024-07-15 20:34:08.722158: I external/local_tsl/tsl/profiler/lib/profiler_session.cc:104] Profiler session initializing.\n",
      "2024-07-15 20:34:08.722191: I external/local_tsl/tsl/profiler/lib/profiler_session.cc:119] Profiler session started.\n"
     ]
    },
    {
     "name": "stdout",
     "output_type": "stream",
     "text": [
      "Generating feature and label tensors...\n",
      "Fetching rainfall configuration...\n",
      "Configuration:  config_v1%2FRainfall_Data_1.txt\n",
      "Rainfall duration:  19\n",
      "The output label tensor will initially be of shape:  [1000, 1000, 19]\n",
      "Creating feature chunks...\n",
      "Creating label chunks...\n",
      "Length of common indices: 66\n",
      "Feature file: gs://test-climateiq-study-area-feature-chunks/Manhattan/scaled_chunk_3_4.npy\n",
      "Label file: gs://test-climateiq-study-area-label-chunks/Manhattan/config_v1/Rainfall_Data_1.txt/3_4.npy\n",
      "Finished creating feature and label tensors...\n",
      "Feature tensor shape: (1000, 1000, 8)\n",
      "Label tensor shape: (19, 1000, 1000)\n",
      "\n",
      "\n",
      "Generating temporal tensors...\n",
      "Creating temporal chunks...\n",
      "Configuration:  config_v1%2FRainfall_Data_1.txt\n",
      "Fetching document: config_v1%2FRainfall_Data_1.txt\n",
      "Loading temporal tensor from gs://test-climateiq-study-area-feature-chunks/rainfall/config_v1/Rainfall_Data_1.npy...\n",
      "Temporal tensor shape:  (864, 6)\n"
     ]
    },
    {
     "name": "stderr",
     "output_type": "stream",
     "text": [
      "WARNING: All log messages before absl::InitializeLog() is called are written to STDERR\n",
      "I0000 00:00:1721075659.581905   60659 service.cc:145] XLA service 0x7f4c0c1223b0 initialized for platform CUDA (this does not guarantee that XLA will be used). Devices:\n",
      "I0000 00:00:1721075659.582373   60659 service.cc:153]   StreamExecutor device (0): Tesla T4, Compute Capability 7.5\n",
      "2024-07-15 20:34:19.711639: I tensorflow/compiler/mlir/tensorflow/utils/dump_mlir_util.cc:268] disabling MLIR crash reproducer, set env var `MLIR_CRASH_REPRODUCER_DIRECTORY` to enable.\n",
      "2024-07-15 20:34:20.251609: I external/local_xla/xla/stream_executor/cuda/cuda_dnn.cc:465] Loaded cuDNN version 8904\n",
      "I0000 00:00:1721075670.737549   60659 device_compiler.h:188] Compiled cluster using XLA!  This line is logged at most once for the lifetime of the process.\n"
     ]
    },
    {
     "name": "stdout",
     "output_type": "stream",
     "text": [
      "     18/Unknown \u001b[1m30s\u001b[0m 447ms/step - loss: 0.0234 - mean_absolute_error: 0.0383 - root_mean_squared_error: 0.1353Feature file: gs://test-climateiq-study-area-feature-chunks/Manhattan/scaled_chunk_4_4.npy\n",
      "Label file: gs://test-climateiq-study-area-label-chunks/Manhattan/config_v1/Rainfall_Data_1.txt/4_4.npy\n",
      "     19/Unknown \u001b[1m31s\u001b[0m 447ms/step - loss: 0.0245 - mean_absolute_error: 0.0393 - root_mean_squared_error: 0.1394Finished creating feature and label tensors...\n",
      "Feature tensor shape: (1000, 1000, 8)\n",
      "Label tensor shape: (19, 1000, 1000)\n",
      "\n",
      "\n",
      "     36/Unknown \u001b[1m41s\u001b[0m 521ms/step - loss: 0.0300 - mean_absolute_error: 0.0451 - root_mean_squared_error: 0.1632Feature file: gs://test-climateiq-study-area-feature-chunks/Manhattan/scaled_chunk_3_7.npy\n",
      "Label file: gs://test-climateiq-study-area-label-chunks/Manhattan/config_v1/Rainfall_Data_1.txt/3_7.npy\n",
      "     38/Unknown \u001b[1m42s\u001b[0m 517ms/step - loss: 0.0302 - mean_absolute_error: 0.0456 - root_mean_squared_error: 0.1644Finished creating feature and label tensors...\n",
      "Feature tensor shape: (1000, 1000, 8)\n",
      "Label tensor shape: (19, 1000, 1000)\n",
      "\n",
      "\n",
      "     53/Unknown \u001b[1m50s\u001b[0m 520ms/step - loss: 0.0300 - mean_absolute_error: 0.0459 - root_mean_squared_error: 0.1664Feature file: gs://test-climateiq-study-area-feature-chunks/Manhattan/scaled_chunk_0_8.npy\n",
      "Label file: gs://test-climateiq-study-area-label-chunks/Manhattan/config_v1/Rainfall_Data_1.txt/0_8.npy\n",
      "     55/Unknown \u001b[1m51s\u001b[0m 517ms/step - loss: 0.0299 - mean_absolute_error: 0.0458 - root_mean_squared_error: 0.1663Finished creating feature and label tensors...\n",
      "Feature tensor shape: (1000, 1000, 8)\n",
      "Label tensor shape: (19, 1000, 1000)\n",
      "\n",
      "\n",
      "     72/Unknown \u001b[1m59s\u001b[0m 509ms/step - loss: 0.0283 - mean_absolute_error: 0.0436 - root_mean_squared_error: 0.1631Feature file: gs://test-climateiq-study-area-feature-chunks/Manhattan/scaled_chunk_1_0.npy\n",
      "Label file: gs://test-climateiq-study-area-label-chunks/Manhattan/config_v1/Rainfall_Data_1.txt/1_0.npy\n",
      "     74/Unknown \u001b[1m60s\u001b[0m 510ms/step - loss: 0.0281 - mean_absolute_error: 0.0433 - root_mean_squared_error: 0.1625Finished creating feature and label tensors...\n",
      "Feature tensor shape: (1000, 1000, 8)\n",
      "Label tensor shape: (19, 1000, 1000)\n",
      "\n",
      "\n",
      "     91/Unknown \u001b[1m67s\u001b[0m 496ms/step - loss: 0.0262 - mean_absolute_error: 0.0405 - root_mean_squared_error: 0.1571Feature file: gs://test-climateiq-study-area-feature-chunks/Manhattan/scaled_chunk_4_8.npy\n",
      "Label file: gs://test-climateiq-study-area-label-chunks/Manhattan/config_v1/Rainfall_Data_1.txt/4_8.npy\n",
      "     93/Unknown \u001b[1m68s\u001b[0m 496ms/step - loss: 0.0260 - mean_absolute_error: 0.0402 - root_mean_squared_error: 0.1565Finished creating feature and label tensors...\n",
      "Feature tensor shape: (1000, 1000, 8)\n",
      "Label tensor shape: (19, 1000, 1000)\n",
      "\n",
      "\n",
      "     99/Unknown \u001b[1m71s\u001b[0m 497ms/step - loss: 0.0253 - mean_absolute_error: 0.0392 - root_mean_squared_error: 0.1545"
     ]
    },
    {
     "name": "stderr",
     "output_type": "stream",
     "text": [
      "2024-07-15 20:35:21.239996: I external/local_tsl/tsl/profiler/lib/profiler_session.cc:70] Profiler session collecting data.\n",
      "2024-07-15 20:35:21.251655: I external/local_xla/xla/backends/profiler/gpu/cupti_tracer.cc:1364] CUPTI activity buffer flushed\n",
      "2024-07-15 20:35:21.315384: I external/local_xla/xla/backends/profiler/gpu/cupti_collector.cc:540]  GpuTracer has collected 156664 callback api events and 152581 activity events. \n",
      "2024-07-15 20:35:22.424042: I external/local_tsl/tsl/profiler/lib/profiler_session.cc:131] Profiler session tear down.\n",
      "2024-07-15 20:35:22.425684: I external/local_tsl/tsl/profiler/rpc/client/save_profile.cc:144] Collecting XSpace to repository: ./logs/plugins/profile/2024_07_15_20_35_22/dl-m123-a100.xplane.pb\n"
     ]
    },
    {
     "name": "stdout",
     "output_type": "stream",
     "text": [
      "    110/Unknown \u001b[1m78s\u001b[0m 509ms/step - loss: 0.0242 - mean_absolute_error: 0.0375 - root_mean_squared_error: 0.1509Feature file: gs://test-climateiq-study-area-feature-chunks/Manhattan/scaled_chunk_5_4.npy\n",
      "Label file: gs://test-climateiq-study-area-label-chunks/Manhattan/config_v1/Rainfall_Data_1.txt/5_4.npy\n",
      "    114/Unknown \u001b[1m80s\u001b[0m 506ms/step - loss: 0.0238 - mean_absolute_error: 0.0369 - root_mean_squared_error: 0.1497Finished creating feature and label tensors...\n",
      "Feature tensor shape: (1000, 1000, 8)\n",
      "Label tensor shape: (19, 1000, 1000)\n",
      "\n",
      "\n",
      "    126/Unknown \u001b[1m86s\u001b[0m 505ms/step - loss: 0.0228 - mean_absolute_error: 0.0353 - root_mean_squared_error: 0.1461Feature file: gs://test-climateiq-study-area-feature-chunks/Manhattan/scaled_chunk_2_9.npy\n",
      "Label file: gs://test-climateiq-study-area-label-chunks/Manhattan/config_v1/Rainfall_Data_1.txt/2_9.npy\n",
      "    129/Unknown \u001b[1m87s\u001b[0m 503ms/step - loss: 0.0225 - mean_absolute_error: 0.0349 - root_mean_squared_error: 0.1454Finished creating feature and label tensors...\n",
      "Feature tensor shape: (1000, 1000, 8)\n",
      "Label tensor shape: (19, 1000, 1000)\n",
      "\n",
      "\n",
      "    144/Unknown \u001b[1m94s\u001b[0m 497ms/step - loss: 0.0215 - mean_absolute_error: 0.0334 - root_mean_squared_error: 0.1420Feature file: gs://test-climateiq-study-area-feature-chunks/Manhattan/scaled_chunk_1_5.npy\n",
      "Label file: gs://test-climateiq-study-area-label-chunks/Manhattan/config_v1/Rainfall_Data_1.txt/1_5.npy\n",
      "    146/Unknown \u001b[1m95s\u001b[0m 497ms/step - loss: 0.0214 - mean_absolute_error: 0.0332 - root_mean_squared_error: 0.1416Finished creating feature and label tensors...\n",
      "Feature tensor shape: (1000, 1000, 8)\n",
      "Label tensor shape: (19, 1000, 1000)\n",
      "\n",
      "\n",
      "Generating feature and label tensors...\n",
      "    148/Unknown \u001b[1m96s\u001b[0m 496ms/step - loss: 0.0213 - mean_absolute_error: 0.0330 - root_mean_squared_error: 0.1412Fetching rainfall configuration...\n",
      "Configuration:  config_v1%2FRainfall_Data_2.txt\n",
      "Rainfall duration:  19\n",
      "The output label tensor will initially be of shape:  [1000, 1000, 19]\n",
      "Creating feature chunks...\n",
      "    150/Unknown \u001b[1m97s\u001b[0m 495ms/step - loss: 0.0212 - mean_absolute_error: 0.0328 - root_mean_squared_error: 0.1408Creating label chunks...\n",
      "    152/Unknown \u001b[1m97s\u001b[0m 495ms/step - loss: 0.0211 - mean_absolute_error: 0.0327 - root_mean_squared_error: 0.1405Length of common indices: 66\n",
      "Feature file: gs://test-climateiq-study-area-feature-chunks/Manhattan/scaled_chunk_3_9.npy\n",
      "Label file: gs://test-climateiq-study-area-label-chunks/Manhattan/config_v1/Rainfall_Data_2.txt/3_9.npy\n",
      "Finished creating feature and label tensors...\n",
      "Feature tensor shape: (1000, 1000, 8)\n",
      "Label tensor shape: (19, 1000, 1000)\n",
      "\n",
      "\n",
      "Generating temporal tensors...\n",
      "Creating temporal chunks...\n",
      "Configuration:  config_v1%2FRainfall_Data_2.txt\n",
      "Fetching document: config_v1%2FRainfall_Data_2.txt\n",
      "Loading temporal tensor from gs://test-climateiq-study-area-feature-chunks/rainfall/config_v1/Rainfall_Data_2.npy...\n",
      "Temporal tensor shape:  (864, 6)\n",
      "    162/Unknown \u001b[1m104s\u001b[0m 507ms/step - loss: 0.0205 - mean_absolute_error: 0.0319 - root_mean_squared_error: 0.1386Feature file: gs://test-climateiq-study-area-feature-chunks/Manhattan/scaled_chunk_1_3.npy\n",
      "Label file: gs://test-climateiq-study-area-label-chunks/Manhattan/config_v1/Rainfall_Data_2.txt/1_3.npy\n",
      "    164/Unknown \u001b[1m105s\u001b[0m 506ms/step - loss: 0.0204 - mean_absolute_error: 0.0317 - root_mean_squared_error: 0.1383Finished creating feature and label tensors...\n",
      "Feature tensor shape: (1000, 1000, 8)\n",
      "Label tensor shape: (19, 1000, 1000)\n",
      "\n",
      "\n",
      "    177/Unknown \u001b[1m111s\u001b[0m 500ms/step - loss: 0.0197 - mean_absolute_error: 0.0307 - root_mean_squared_error: 0.1359Feature file: gs://test-climateiq-study-area-feature-chunks/Manhattan/scaled_chunk_5_1.npy\n",
      "Label file: gs://test-climateiq-study-area-label-chunks/Manhattan/config_v1/Rainfall_Data_2.txt/5_1.npy\n",
      "    182/Unknown \u001b[1m113s\u001b[0m 498ms/step - loss: 0.0195 - mean_absolute_error: 0.0303 - root_mean_squared_error: 0.1350Finished creating feature and label tensors...\n",
      "Feature tensor shape: (1000, 1000, 8)\n",
      "Label tensor shape: (19, 1000, 1000)\n",
      "\n",
      "\n",
      "    193/Unknown \u001b[1m117s\u001b[0m 493ms/step - loss: 0.0190 - mean_absolute_error: 0.0296 - root_mean_squared_error: 0.1331Feature file: gs://test-climateiq-study-area-feature-chunks/Manhattan/scaled_chunk_2_8.npy\n",
      "Label file: gs://test-climateiq-study-area-label-chunks/Manhattan/config_v1/Rainfall_Data_2.txt/2_8.npy\n",
      "    196/Unknown \u001b[1m119s\u001b[0m 492ms/step - loss: 0.0188 - mean_absolute_error: 0.0294 - root_mean_squared_error: 0.1326Finished creating feature and label tensors...\n",
      "Feature tensor shape: (1000, 1000, 8)\n",
      "Label tensor shape: (19, 1000, 1000)\n",
      "\n",
      "\n",
      "    212/Unknown \u001b[1m126s\u001b[0m 488ms/step - loss: 0.0182 - mean_absolute_error: 0.0283 - root_mean_squared_error: 0.1302Feature file: gs://test-climateiq-study-area-feature-chunks/Manhattan/scaled_chunk_5_5.npy\n",
      "Label file: gs://test-climateiq-study-area-label-chunks/Manhattan/config_v1/Rainfall_Data_2.txt/5_5.npy\n",
      "    214/Unknown \u001b[1m127s\u001b[0m 487ms/step - loss: 0.0181 - mean_absolute_error: 0.0282 - root_mean_squared_error: 0.1299Finished creating feature and label tensors...\n",
      "Feature tensor shape: (1000, 1000, 8)\n",
      "Label tensor shape: (19, 1000, 1000)\n",
      "\n",
      "\n",
      "    231/Unknown \u001b[1m134s\u001b[0m 485ms/step - loss: 0.0176 - mean_absolute_error: 0.0274 - root_mean_squared_error: 0.1280Feature file: gs://test-climateiq-study-area-feature-chunks/Manhattan/scaled_chunk_4_8.npy\n",
      "Label file: gs://test-climateiq-study-area-label-chunks/Manhattan/config_v1/Rainfall_Data_2.txt/4_8.npy\n",
      "    233/Unknown \u001b[1m135s\u001b[0m 485ms/step - loss: 0.0175 - mean_absolute_error: 0.0273 - root_mean_squared_error: 0.1278Finished creating feature and label tensors...\n",
      "Feature tensor shape: (1000, 1000, 8)\n",
      "Label tensor shape: (19, 1000, 1000)\n",
      "\n",
      "\n",
      "    250/Unknown \u001b[1m142s\u001b[0m 481ms/step - loss: 0.0171 - mean_absolute_error: 0.0267 - root_mean_squared_error: 0.1264Feature file: gs://test-climateiq-study-area-feature-chunks/Manhattan/scaled_chunk_1_8.npy\n",
      "Label file: gs://test-climateiq-study-area-label-chunks/Manhattan/config_v1/Rainfall_Data_2.txt/1_8.npy\n",
      "    252/Unknown \u001b[1m143s\u001b[0m 480ms/step - loss: 0.0171 - mean_absolute_error: 0.0266 - root_mean_squared_error: 0.1263Finished creating feature and label tensors...\n",
      "Feature tensor shape: (1000, 1000, 8)\n",
      "Label tensor shape: (19, 1000, 1000)\n",
      "\n",
      "\n",
      "    269/Unknown \u001b[1m151s\u001b[0m 477ms/step - loss: 0.0167 - mean_absolute_error: 0.0260 - root_mean_squared_error: 0.1249Feature file: gs://test-climateiq-study-area-feature-chunks/Manhattan/scaled_chunk_2_5.npy\n",
      "Label file: gs://test-climateiq-study-area-label-chunks/Manhattan/config_v1/Rainfall_Data_2.txt/2_5.npy\n",
      "    271/Unknown \u001b[1m151s\u001b[0m 477ms/step - loss: 0.0166 - mean_absolute_error: 0.0260 - root_mean_squared_error: 0.1247Finished creating feature and label tensors...\n",
      "Feature tensor shape: (1000, 1000, 8)\n",
      "Label tensor shape: (19, 1000, 1000)\n",
      "\n",
      "\n",
      "    288/Unknown \u001b[1m159s\u001b[0m 475ms/step - loss: 0.0163 - mean_absolute_error: 0.0254 - root_mean_squared_error: 0.1234Feature file: gs://test-climateiq-study-area-feature-chunks/Manhattan/scaled_chunk_3_1.npy\n",
      "Label file: gs://test-climateiq-study-area-label-chunks/Manhattan/config_v1/Rainfall_Data_2.txt/3_1.npy\n",
      "    290/Unknown \u001b[1m160s\u001b[0m 475ms/step - loss: 0.0162 - mean_absolute_error: 0.0254 - root_mean_squared_error: 0.1233Finished creating feature and label tensors...\n",
      "Feature tensor shape: (1000, 1000, 8)\n",
      "Label tensor shape: (19, 1000, 1000)\n",
      "\n",
      "\n",
      "    304/Unknown \u001b[1m166s\u001b[0m 473ms/step - loss: 0.0160 - mean_absolute_error: 0.0250 - root_mean_squared_error: 0.1225"
     ]
    },
    {
     "name": "stderr",
     "output_type": "stream",
     "text": [
      "2024-07-15 20:36:54.850691: W tensorflow/core/framework/local_rendezvous.cc:404] Local rendezvous is aborting with status: OUT_OF_RANGE: End of sequence\n",
      "\t [[{{node IteratorGetNext}}]]\n",
      "2024-07-15 20:36:54.850761: W tensorflow/core/framework/local_rendezvous.cc:404] Local rendezvous is aborting with status: OUT_OF_RANGE: End of sequence\n",
      "\t [[{{node IteratorGetNext}}]]\n",
      "\t [[IteratorGetNext/_2]]\n",
      "2024-07-15 20:36:54.850791: I tensorflow/core/framework/local_rendezvous.cc:422] Local rendezvous recv item cancelled. Key hash: 6258208696974168013\n",
      "2024-07-15 20:36:54.850802: I tensorflow/core/framework/local_rendezvous.cc:422] Local rendezvous recv item cancelled. Key hash: 16195142916308080567\n",
      "2024-07-15 20:36:54.850815: I tensorflow/core/framework/local_rendezvous.cc:422] Local rendezvous recv item cancelled. Key hash: 16765967092538279867\n",
      "2024-07-15 20:36:54.850846: I tensorflow/core/framework/local_rendezvous.cc:422] Local rendezvous recv item cancelled. Key hash: 16725471504900756592\n",
      "/opt/conda/lib/python3.10/contextlib.py:153: UserWarning: Your input ran out of data; interrupting training. Make sure that your dataset or generator can generate at least `steps_per_epoch * epochs` batches. You may need to use the `.repeat()` function when building your dataset.\n",
      "  self.gen.throw(typ, value, traceback)\n"
     ]
    },
    {
     "name": "stdout",
     "output_type": "stream",
     "text": [
      "\u001b[1m304/304\u001b[0m \u001b[32m━━━━━━━━━━━━━━━━━━━━\u001b[0m\u001b[37m\u001b[0m \u001b[1m166s\u001b[0m 474ms/step - loss: 0.0160 - mean_absolute_error: 0.0250 - root_mean_squared_error: 0.1225\n"
     ]
    },
    {
     "data": {
      "text/plain": [
       "<keras.src.callbacks.history.History at 0x7f4cf0306950>"
      ]
     },
     "execution_count": 4,
     "metadata": {},
     "output_type": "execute_result"
    }
   ],
   "source": [
    "# Fit the model to the dataset\n",
    "callbacks = [keras.callbacks.TensorBoard(log_dir='./logs',\n",
    "                                         histogram_freq=1,\n",
    "                                         profile_batch='1,100')]\n",
    "model.fit(dataset, epochs=1, callbacks=callbacks)"
   ]
  },
  {
   "cell_type": "code",
   "execution_count": 5,
   "metadata": {},
   "outputs": [
    {
     "name": "stdout",
     "output_type": "stream",
     "text": [
      "Generating feature and label tensors...\n",
      "Fetching rainfall configuration...\n",
      "Configuration:  config_v1%2FRainfall_Data_1.txt\n",
      "Rainfall duration:  19\n",
      "The output label tensor will initially be of shape:  [1000, 1000, 19]\n",
      "Creating feature chunks...\n",
      "Creating label chunks...\n",
      "Length of common indices: 66\n",
      "Feature file: gs://test-climateiq-study-area-feature-chunks/Manhattan/scaled_chunk_4_2.npy\n",
      "Label file: gs://test-climateiq-study-area-label-chunks/Manhattan/config_v1/Rainfall_Data_1.txt/4_2.npy\n",
      "Finished creating feature and label tensors...\n",
      "Feature tensor shape: (1000, 1000, 8)\n",
      "Label tensor shape: (19, 1000, 1000)\n",
      "\n",
      "\n",
      "Generating temporal tensors...\n",
      "Creating temporal chunks...\n",
      "Configuration:  config_v1%2FRainfall_Data_1.txt\n",
      "Fetching document: config_v1%2FRainfall_Data_1.txt\n",
      "Loading temporal tensor from gs://test-climateiq-study-area-feature-chunks/rainfall/config_v1/Rainfall_Data_1.npy...\n",
      "Temporal tensor shape:  (864, 6)\n"
     ]
    },
    {
     "data": {
      "text/plain": [
       "(TensorShape([1, 1000, 1000, 1]),\n",
       " <tf.Tensor: shape=(), dtype=float32, numpy=0.47456443>)"
      ]
     },
     "execution_count": 5,
     "metadata": {},
     "output_type": "execute_result"
    }
   ],
   "source": [
    "dataset = generator.load_dataset_windowed(sim_names, batch_size=1, max_chunks=8)\n",
    "input, labels = next(iter(dataset))\n",
    "prediction = model.call(input)\n",
    "prediction.shape, tf.math.reduce_max(prediction)"
   ]
  },
  {
   "cell_type": "code",
   "execution_count": 8,
   "metadata": {},
   "outputs": [
    {
     "name": "stdout",
     "output_type": "stream",
     "text": [
      "[TIP] Next time specify overwrite=True!\n"
     ]
    }
   ],
   "source": [
    "model.save_model('data/flood_model_tf213_20240711-190530.keras')"
   ]
  },
  {
   "cell_type": "code",
   "execution_count": 9,
   "metadata": {},
   "outputs": [
    {
     "name": "stdout",
     "output_type": "stream",
     "text": [
      "Generating feature and label tensors...\n",
      "Fetching rainfall configuration...\n",
      "Configuration:  config_v1%2FRainfall_Data_1.txt\n",
      "Rainfall duration:  19\n",
      "The output label tensor will initially be of shape:  [1000, 1000, 19]\n",
      "Creating feature chunks...\n",
      "Creating label chunks...\n",
      "Length of common indices: 66\n",
      "Feature file: gs://test-climateiq-study-area-feature-chunks/Manhattan/scaled_chunk_4_4.npy\n",
      "Label file: gs://test-climateiq-study-area-label-chunks/Manhattan/config_v1/Rainfall_Data_1.txt/4_4.npy\n",
      "Finished creating feature and label tensors...\n",
      "Feature tensor shape: (1000, 1000, 8)\n",
      "Label tensor shape: (19, 1000, 1000)\n",
      "\n",
      "\n",
      "Generating temporal tensors...\n",
      "Creating temporal chunks...\n",
      "Configuration:  config_v1%2FRainfall_Data_1.txt\n",
      "Fetching document: config_v1%2FRainfall_Data_1.txt\n",
      "Loading temporal tensor from gs://test-climateiq-study-area-feature-chunks/rainfall/config_v1/Rainfall_Data_1.npy...\n",
      "Temporal tensor shape:  (864, 6)\n",
      "Feature file: gs://test-climateiq-study-area-feature-chunks/Manhattan/scaled_chunk_4_1.npy\n",
      "Label file: gs://test-climateiq-study-area-label-chunks/Manhattan/config_v1/Rainfall_Data_1.txt/4_1.npy\n",
      "Finished creating feature and label tensors...\n",
      "Feature tensor shape: (1000, 1000, 8)\n",
      "Label tensor shape: (19, 1000, 1000)\n",
      "\n",
      "\n",
      "Generating feature and label tensors...\n",
      "Fetching rainfall configuration...\n",
      "Configuration:  config_v1%2FRainfall_Data_2.txt\n",
      "Rainfall duration:  19\n",
      "The output label tensor will initially be of shape:  [1000, 1000, 19]\n",
      "Creating feature chunks...\n",
      "Creating label chunks...\n",
      "Length of common indices: 66\n",
      "Feature file: gs://test-climateiq-study-area-feature-chunks/Manhattan/scaled_chunk_1_6.npy\n",
      "Label file: gs://test-climateiq-study-area-label-chunks/Manhattan/config_v1/Rainfall_Data_2.txt/1_6.npy\n",
      "Finished creating feature and label tensors...\n",
      "Feature tensor shape: (1000, 1000, 8)\n",
      "Label tensor shape: (19, 1000, 1000)\n",
      "\n",
      "\n",
      "Generating temporal tensors...\n",
      "Creating temporal chunks...\n",
      "Configuration:  config_v1%2FRainfall_Data_2.txt\n",
      "Fetching document: config_v1%2FRainfall_Data_2.txt\n",
      "Loading temporal tensor from gs://test-climateiq-study-area-feature-chunks/rainfall/config_v1/Rainfall_Data_2.npy...\n",
      "Temporal tensor shape:  (864, 6)\n"
     ]
    },
    {
     "data": {
      "text/plain": [
       "(TensorShape([1, 19, 1000, 1000]),\n",
       " <tf.Tensor: shape=(), dtype=float32, numpy=3.6984036>)"
      ]
     },
     "execution_count": 9,
     "metadata": {},
     "output_type": "execute_result"
    }
   ],
   "source": [
    "# Test call_n\n",
    "dataset = generator.load_dataset(sim_names, batch_size=1, max_chunks=1)\n",
    "input, labels = next(iter(dataset))\n",
    "\n",
    "(B, n, H, W) = labels.shape\n",
    "predictions = model.call_n(input, n=n)\n",
    "predictions.shape, tf.math.reduce_max(predictions)"
   ]
  }
 ],
 "metadata": {
  "kernelspec": {
   "display_name": "base",
   "language": "python",
   "name": "python3"
  },
  "language_info": {
   "codemirror_mode": {
    "name": "ipython",
    "version": 3
   },
   "file_extension": ".py",
   "mimetype": "text/x-python",
   "name": "python",
   "nbconvert_exporter": "python",
   "pygments_lexer": "ipython3",
   "version": "3.10.14"
  }
 },
 "nbformat": 4,
 "nbformat_minor": 2
}
