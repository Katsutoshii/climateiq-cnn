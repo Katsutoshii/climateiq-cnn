{
 "cells": [
  {
   "cell_type": "markdown",
   "metadata": {},
   "source": [
    "# Flood ConvLSTM training"
   ]
  },
  {
   "cell_type": "code",
   "execution_count": 2,
   "metadata": {},
   "outputs": [
    {
     "name": "stdout",
     "output_type": "stream",
     "text": [
      "env: TF_FORCE_GPU_ALLOW_GROWTH=true\n"
     ]
    },
    {
     "name": "stderr",
     "output_type": "stream",
     "text": [
      "2024-07-12 02:03:25.469108: E external/local_xla/xla/stream_executor/cuda/cuda_dnn.cc:9261] Unable to register cuDNN factory: Attempting to register factory for plugin cuDNN when one has already been registered\n",
      "2024-07-12 02:03:25.469165: E external/local_xla/xla/stream_executor/cuda/cuda_fft.cc:607] Unable to register cuFFT factory: Attempting to register factory for plugin cuFFT when one has already been registered\n",
      "2024-07-12 02:03:25.472116: E external/local_xla/xla/stream_executor/cuda/cuda_blas.cc:1515] Unable to register cuBLAS factory: Attempting to register factory for plugin cuBLAS when one has already been registered\n",
      "2024-07-12 02:03:25.488629: I tensorflow/core/platform/cpu_feature_guard.cc:182] This TensorFlow binary is optimized to use available CPU instructions in performance-critical operations.\n",
      "To enable the following instructions: AVX2 FMA, in other operations, rebuild TensorFlow with the appropriate compiler flags.\n",
      "2024-07-12 02:03:29.733842: I external/local_xla/xla/stream_executor/cuda/cuda_executor.cc:901] successful NUMA node read from SysFS had negative value (-1), but there must be at least one NUMA node, so returning NUMA node zero. See more at https://github.com/torvalds/linux/blob/v6.0/Documentation/ABI/testing/sysfs-bus-pci#L344-L355\n",
      "2024-07-12 02:03:29.896234: I external/local_xla/xla/stream_executor/cuda/cuda_executor.cc:901] successful NUMA node read from SysFS had negative value (-1), but there must be at least one NUMA node, so returning NUMA node zero. See more at https://github.com/torvalds/linux/blob/v6.0/Documentation/ABI/testing/sysfs-bus-pci#L344-L355\n",
      "2024-07-12 02:03:29.899922: I external/local_xla/xla/stream_executor/cuda/cuda_executor.cc:901] successful NUMA node read from SysFS had negative value (-1), but there must be at least one NUMA node, so returning NUMA node zero. See more at https://github.com/torvalds/linux/blob/v6.0/Documentation/ABI/testing/sysfs-bus-pci#L344-L355\n"
     ]
    },
    {
     "data": {
      "text/plain": [
       "[PhysicalDevice(name='/physical_device:GPU:0', device_type='GPU')]"
      ]
     },
     "execution_count": 2,
     "metadata": {},
     "output_type": "execute_result"
    }
   ],
   "source": [
    "# Setup with GPU\n",
    "%env TF_FORCE_GPU_ALLOW_GROWTH=true\n",
    "%load_ext autoreload\n",
    "%autoreload 2\n",
    "import tensorflow as tf\n",
    "tf.config.list_physical_devices('GPU')"
   ]
  },
  {
   "cell_type": "code",
   "execution_count": 3,
   "metadata": {},
   "outputs": [
    {
     "name": "stderr",
     "output_type": "stream",
     "text": [
      "2024-07-12 02:03:32.383237: I external/local_xla/xla/stream_executor/cuda/cuda_executor.cc:901] successful NUMA node read from SysFS had negative value (-1), but there must be at least one NUMA node, so returning NUMA node zero. See more at https://github.com/torvalds/linux/blob/v6.0/Documentation/ABI/testing/sysfs-bus-pci#L344-L355\n",
      "2024-07-12 02:03:32.388286: I external/local_xla/xla/stream_executor/cuda/cuda_executor.cc:901] successful NUMA node read from SysFS had negative value (-1), but there must be at least one NUMA node, so returning NUMA node zero. See more at https://github.com/torvalds/linux/blob/v6.0/Documentation/ABI/testing/sysfs-bus-pci#L344-L355\n",
      "2024-07-12 02:03:32.393317: I external/local_xla/xla/stream_executor/cuda/cuda_executor.cc:901] successful NUMA node read from SysFS had negative value (-1), but there must be at least one NUMA node, so returning NUMA node zero. See more at https://github.com/torvalds/linux/blob/v6.0/Documentation/ABI/testing/sysfs-bus-pci#L344-L355\n",
      "2024-07-12 02:03:32.883864: I external/local_xla/xla/stream_executor/cuda/cuda_executor.cc:901] successful NUMA node read from SysFS had negative value (-1), but there must be at least one NUMA node, so returning NUMA node zero. See more at https://github.com/torvalds/linux/blob/v6.0/Documentation/ABI/testing/sysfs-bus-pci#L344-L355\n",
      "2024-07-12 02:03:32.885868: I external/local_xla/xla/stream_executor/cuda/cuda_executor.cc:901] successful NUMA node read from SysFS had negative value (-1), but there must be at least one NUMA node, so returning NUMA node zero. See more at https://github.com/torvalds/linux/blob/v6.0/Documentation/ABI/testing/sysfs-bus-pci#L344-L355\n",
      "2024-07-12 02:03:32.887702: W tensorflow/core/common_runtime/gpu/gpu_bfc_allocator.cc:47] Overriding orig_value setting because the TF_FORCE_GPU_ALLOW_GROWTH environment variable is set. Original config value was 0.\n",
      "2024-07-12 02:03:32.887767: I external/local_xla/xla/stream_executor/cuda/cuda_executor.cc:901] successful NUMA node read from SysFS had negative value (-1), but there must be at least one NUMA node, so returning NUMA node zero. See more at https://github.com/torvalds/linux/blob/v6.0/Documentation/ABI/testing/sysfs-bus-pci#L344-L355\n",
      "2024-07-12 02:03:32.889624: I tensorflow/core/common_runtime/gpu/gpu_device.cc:1929] Created device /job:localhost/replica:0/task:0/device:GPU:0 with 13764 MB memory:  -> device: 0, name: Tesla T4, pci bus id: 0000:00:04.0, compute capability: 7.5\n"
     ]
    }
   ],
   "source": [
    "# Load the dataset form firestore\n",
    "from usl_models.flood_ml.trainingdataset import IncrementalTrainDataGenerator\n",
    "\n",
    "sim_names = [\"Manhattan-config_v1%2FRainfall_Data_1.txt\", \"Manhattan-config_v1%2FRainfall_Data_2.txt\"]\n",
    "batch_size = 1 # On A100, use batch_size = 4\n",
    "\n",
    "generator = IncrementalTrainDataGenerator()\n",
    "dataset = generator.load_dataset_windowed(sim_names, batch_size=batch_size, max_chunks=8)\n"
   ]
  },
  {
   "cell_type": "code",
   "execution_count": 4,
   "metadata": {},
   "outputs": [],
   "source": [
    "# Initialize the model\n",
    "from usl_models.flood_ml.model import FloodModel\n",
    "from usl_models.flood_ml.model import Input\n",
    "from usl_models.flood_ml.model_params import FloodModelParams\n",
    "\n",
    "model = FloodModel(\n",
    "    model_params=FloodModelParams(batch_size=batch_size))"
   ]
  },
  {
   "cell_type": "code",
   "execution_count": 5,
   "metadata": {},
   "outputs": [
    {
     "name": "stderr",
     "output_type": "stream",
     "text": [
      "2024-07-12 02:03:35.049587: I external/local_tsl/tsl/profiler/lib/profiler_session.cc:104] Profiler session initializing.\n",
      "2024-07-12 02:03:35.049613: I external/local_tsl/tsl/profiler/lib/profiler_session.cc:119] Profiler session started.\n",
      "2024-07-12 02:03:35.050971: I external/local_xla/xla/backends/profiler/gpu/cupti_tracer.cc:1883] Profiler found 1 GPUs\n",
      "2024-07-12 02:03:35.113778: I external/local_tsl/tsl/profiler/lib/profiler_session.cc:131] Profiler session tear down.\n",
      "2024-07-12 02:03:35.113877: I external/local_xla/xla/backends/profiler/gpu/cupti_tracer.cc:2017] CUPTI activity buffer flushed\n",
      "2024-07-12 02:03:38.712905: E tensorflow/core/grappler/optimizers/meta_optimizer.cc:961] layout failed: INVALID_ARGUMENT: Size of values 0 does not match size of permutation 4 @ fanin shape inflood_conv_lstm/conv_lstm/conv_lstm2d/while/body/_1/flood_conv_lstm/conv_lstm/conv_lstm2d/while/dropout_7/SelectV2-2-TransposeNHWCToNCHW-LayoutOptimizer\n"
     ]
    },
    {
     "name": "stdout",
     "output_type": "stream",
     "text": [
      "Generating feature and label tensors...\n",
      "Fetching rainfall configuration...\n",
      "Configuration:  config_v1%2FRainfall_Data_1.txt\n",
      "Rainfall duration:  19\n",
      "The output label tensor will initially be of shape:  [1000, 1000, 19]\n",
      "Creating feature chunks...\n",
      "Creating label chunks...\n",
      "Length of common indices: 66\n",
      "Feature file: gs://test-climateiq-study-area-feature-chunks/Manhattan/scaled_chunk_1_0.npy\n",
      "Label file: gs://test-climateiq-study-area-label-chunks/Manhattan/config_v1/Rainfall_Data_1.txt/1_0.npy\n"
     ]
    },
    {
     "name": "stderr",
     "output_type": "stream",
     "text": [
      "2024-07-12 02:03:43.835826: W external/local_tsl/tsl/framework/cpu_allocator_impl.cc:83] Allocation of 32000000 exceeds 10% of free system memory.\n",
      "2024-07-12 02:03:44.156404: W external/local_tsl/tsl/framework/cpu_allocator_impl.cc:83] Allocation of 76000000 exceeds 10% of free system memory.\n"
     ]
    },
    {
     "name": "stdout",
     "output_type": "stream",
     "text": [
      "Finished creating feature and label tensors...\n",
      "Feature tensor shape: (1000, 1000, 8)\n",
      "Label tensor shape: (19, 1000, 1000)\n",
      "\n",
      "\n",
      "Generating temporal tensors...\n",
      "Creating temporal chunks...\n",
      "Configuration:  config_v1%2FRainfall_Data_1.txt\n",
      "Fetching document: config_v1%2FRainfall_Data_1.txt\n",
      "Loading temporal tensor from gs://test-climateiq-study-area-feature-chunks/rainfall/config_v1/Rainfall_Data_1.npy...\n",
      "Temporal tensor shape:  (864, 6)\n"
     ]
    },
    {
     "name": "stderr",
     "output_type": "stream",
     "text": [
      "2024-07-12 02:03:45.023756: W external/local_tsl/tsl/framework/cpu_allocator_impl.cc:83] Allocation of 32000000 exceeds 10% of free system memory.\n",
      "2024-07-12 02:03:45.038128: W external/local_tsl/tsl/framework/cpu_allocator_impl.cc:83] Allocation of 20000000 exceeds 10% of free system memory.\n",
      "2024-07-12 02:03:45.056999: W external/local_tsl/tsl/framework/cpu_allocator_impl.cc:83] Allocation of 32000000 exceeds 10% of free system memory.\n",
      "2024-07-12 02:03:45.324384: I external/local_xla/xla/stream_executor/cuda/cuda_dnn.cc:454] Loaded cuDNN version 8904\n",
      "2024-07-12 02:03:55.052993: I external/local_xla/xla/service/service.cc:168] XLA service 0x7f69394cde20 initialized for platform CUDA (this does not guarantee that XLA will be used). Devices:\n",
      "2024-07-12 02:03:55.055216: I external/local_xla/xla/service/service.cc:176]   StreamExecutor device (0): Tesla T4, Compute Capability 7.5\n",
      "2024-07-12 02:03:55.165238: I tensorflow/compiler/mlir/tensorflow/utils/dump_mlir_util.cc:269] disabling MLIR crash reproducer, set env var `MLIR_CRASH_REPRODUCER_DIRECTORY` to enable.\n",
      "WARNING: All log messages before absl::InitializeLog() is called are written to STDERR\n",
      "I0000 00:00:1720749835.420178   15974 device_compiler.h:186] Compiled cluster using XLA!  This line is logged at most once for the lifetime of the process.\n",
      "2024-07-12 02:03:56.345532: W external/local_tsl/tsl/framework/bfc_allocator.cc:296] Allocator (GPU_0_bfc) ran out of memory trying to allocate 5.50GiB with freed_by_count=0. The caller indicates that this is not a failure, but this may mean that there could be performance gains if more memory were available.\n",
      "2024-07-12 02:03:56.424382: W external/local_tsl/tsl/framework/bfc_allocator.cc:296] Allocator (GPU_0_bfc) ran out of memory trying to allocate 5.50GiB with freed_by_count=0. The caller indicates that this is not a failure, but this may mean that there could be performance gains if more memory were available.\n",
      "2024-07-12 02:03:56.499756: W external/local_tsl/tsl/framework/bfc_allocator.cc:296] Allocator (GPU_0_bfc) ran out of memory trying to allocate 5.46GiB with freed_by_count=0. The caller indicates that this is not a failure, but this may mean that there could be performance gains if more memory were available.\n",
      "2024-07-12 02:03:56.500043: W external/local_tsl/tsl/framework/bfc_allocator.cc:296] Allocator (GPU_0_bfc) ran out of memory trying to allocate 5.46GiB with freed_by_count=0. The caller indicates that this is not a failure, but this may mean that there could be performance gains if more memory were available.\n",
      "2024-07-12 02:03:56.563294: W external/local_tsl/tsl/framework/bfc_allocator.cc:296] Allocator (GPU_0_bfc) ran out of memory trying to allocate 5.46GiB with freed_by_count=0. The caller indicates that this is not a failure, but this may mean that there could be performance gains if more memory were available.\n",
      "2024-07-12 02:03:56.563749: W external/local_tsl/tsl/framework/bfc_allocator.cc:296] Allocator (GPU_0_bfc) ran out of memory trying to allocate 5.46GiB with freed_by_count=0. The caller indicates that this is not a failure, but this may mean that there could be performance gains if more memory were available.\n"
     ]
    },
    {
     "name": "stdout",
     "output_type": "stream",
     "text": [
      "     18/Unknown - 34s 594ms/step - loss: 8.9612e-07 - mean_absolute_error: 1.3059e-04 - root_mean_squared_error: 9.4664e-04Feature file: gs://test-climateiq-study-area-feature-chunks/Manhattan/scaled_chunk_3_1.npy\n",
      "Label file: gs://test-climateiq-study-area-label-chunks/Manhattan/config_v1/Rainfall_Data_1.txt/3_1.npy\n",
      "     19/Unknown - 35s 592ms/step - loss: 8.4896e-07 - mean_absolute_error: 1.2371e-04 - root_mean_squared_error: 9.2139e-04Finished creating feature and label tensors...\n",
      "Feature tensor shape: (1000, 1000, 8)\n",
      "Label tensor shape: (19, 1000, 1000)\n",
      "\n",
      "\n",
      "     37/Unknown - 47s 623ms/step - loss: 4.3595e-07 - mean_absolute_error: 6.3529e-05 - root_mean_squared_error: 6.6027e-04Feature file: gs://test-climateiq-study-area-feature-chunks/Manhattan/scaled_chunk_1_2.npy\n",
      "Label file: gs://test-climateiq-study-area-label-chunks/Manhattan/config_v1/Rainfall_Data_1.txt/1_2.npy\n",
      "     38/Unknown - 47s 621ms/step - loss: 4.2448e-07 - mean_absolute_error: 6.1858e-05 - root_mean_squared_error: 6.5152e-04Finished creating feature and label tensors...\n",
      "Feature tensor shape: (1000, 1000, 8)\n",
      "Label tensor shape: (19, 1000, 1000)\n",
      "\n",
      "\n",
      "     56/Unknown - 59s 630ms/step - loss: 2.8804e-07 - mean_absolute_error: 4.1975e-05 - root_mean_squared_error: 5.3669e-04Feature file: gs://test-climateiq-study-area-feature-chunks/Manhattan/scaled_chunk_0_8.npy\n",
      "Label file: gs://test-climateiq-study-area-label-chunks/Manhattan/config_v1/Rainfall_Data_1.txt/0_8.npy\n",
      "     57/Unknown - 60s 629ms/step - loss: 2.8299e-07 - mean_absolute_error: 4.1239e-05 - root_mean_squared_error: 5.3197e-04Finished creating feature and label tensors...\n",
      "Feature tensor shape: (1000, 1000, 8)\n",
      "Label tensor shape: (19, 1000, 1000)\n",
      "\n",
      "\n",
      "     75/Unknown - 72s 640ms/step - loss: 2.1507e-07 - mean_absolute_error: 3.1341e-05 - root_mean_squared_error: 4.6376e-04Feature file: gs://test-climateiq-study-area-feature-chunks/Manhattan/scaled_chunk_5_4.npy\n",
      "Label file: gs://test-climateiq-study-area-label-chunks/Manhattan/config_v1/Rainfall_Data_1.txt/5_4.npy\n",
      "     76/Unknown - 72s 639ms/step - loss: 2.1224e-07 - mean_absolute_error: 3.0929e-05 - root_mean_squared_error: 4.6070e-04Finished creating feature and label tensors...\n",
      "Feature tensor shape: (1000, 1000, 8)\n",
      "Label tensor shape: (19, 1000, 1000)\n",
      "\n",
      "\n",
      "     94/Unknown - 84s 645ms/step - loss: 0.0043 - mean_absolute_error: 0.0039 - root_mean_squared_error: 0.0655Feature file: gs://test-climateiq-study-area-feature-chunks/Manhattan/scaled_chunk_3_8.npy\n",
      "Label file: gs://test-climateiq-study-area-label-chunks/Manhattan/config_v1/Rainfall_Data_1.txt/3_8.npy\n",
      "     95/Unknown - 85s 645ms/step - loss: 0.0046 - mean_absolute_error: 0.0042 - root_mean_squared_error: 0.0677Finished creating feature and label tensors...\n",
      "Feature tensor shape: (1000, 1000, 8)\n",
      "Label tensor shape: (19, 1000, 1000)\n",
      "\n",
      "\n",
      "    113/Unknown - 97s 652ms/step - loss: 0.0044 - mean_absolute_error: 0.0049 - root_mean_squared_error: 0.0660Feature file: gs://test-climateiq-study-area-feature-chunks/Manhattan/scaled_chunk_5_2.npy\n",
      "Label file: gs://test-climateiq-study-area-label-chunks/Manhattan/config_v1/Rainfall_Data_1.txt/5_2.npy\n",
      "    114/Unknown - 98s 651ms/step - loss: 0.0044 - mean_absolute_error: 0.0049 - root_mean_squared_error: 0.0660Finished creating feature and label tensors...\n",
      "Feature tensor shape: (1000, 1000, 8)\n",
      "Label tensor shape: (19, 1000, 1000)\n",
      "\n",
      "\n",
      "    132/Unknown - 110s 656ms/step - loss: 0.0038 - mean_absolute_error: 0.0042 - root_mean_squared_error: 0.0613Feature file: gs://test-climateiq-study-area-feature-chunks/Manhattan/scaled_chunk_0_1.npy\n",
      "Label file: gs://test-climateiq-study-area-label-chunks/Manhattan/config_v1/Rainfall_Data_1.txt/0_1.npy\n",
      "    133/Unknown - 111s 655ms/step - loss: 0.0037 - mean_absolute_error: 0.0042 - root_mean_squared_error: 0.0611Finished creating feature and label tensors...\n",
      "Feature tensor shape: (1000, 1000, 8)\n",
      "Label tensor shape: (19, 1000, 1000)\n",
      "\n",
      "\n",
      "    151/Unknown - 123s 658ms/step - loss: 0.0033 - mean_absolute_error: 0.0037 - root_mean_squared_error: 0.0573Feature file: gs://test-climateiq-study-area-feature-chunks/Manhattan/scaled_chunk_1_7.npy\n",
      "Label file: gs://test-climateiq-study-area-label-chunks/Manhattan/config_v1/Rainfall_Data_1.txt/1_7.npy\n",
      "    152/Unknown - 124s 657ms/step - loss: 0.0033 - mean_absolute_error: 0.0037 - root_mean_squared_error: 0.0572Finished creating feature and label tensors...\n",
      "Feature tensor shape: (1000, 1000, 8)\n",
      "Label tensor shape: (19, 1000, 1000)\n",
      "\n",
      "\n",
      "Generating feature and label tensors...\n",
      "Fetching rainfall configuration...\n",
      "Configuration:  config_v1%2FRainfall_Data_2.txt\n",
      "Rainfall duration:  19\n",
      "The output label tensor will initially be of shape:  [1000, 1000, 19]\n",
      "Creating feature chunks...\n",
      "Creating label chunks...\n",
      "Length of common indices: 66\n",
      "Feature file: gs://test-climateiq-study-area-feature-chunks/Manhattan/scaled_chunk_1_5.npy\n",
      "Label file: gs://test-climateiq-study-area-label-chunks/Manhattan/config_v1/Rainfall_Data_2.txt/1_5.npy\n",
      "Finished creating feature and label tensors...\n",
      "Feature tensor shape: (1000, 1000, 8)\n",
      "Label tensor shape: (19, 1000, 1000)\n",
      "\n",
      "\n",
      "Generating temporal tensors...\n",
      "Creating temporal chunks...\n",
      "Configuration:  config_v1%2FRainfall_Data_2.txt\n",
      "Fetching document: config_v1%2FRainfall_Data_2.txt\n",
      "Loading temporal tensor from gs://test-climateiq-study-area-feature-chunks/rainfall/config_v1/Rainfall_Data_2.npy...\n",
      "Temporal tensor shape:  (864, 6)\n",
      "    170/Unknown - 141s 690ms/step - loss: 0.0029 - mean_absolute_error: 0.0033 - root_mean_squared_error: 0.0540Feature file: gs://test-climateiq-study-area-feature-chunks/Manhattan/scaled_chunk_3_2.npy\n",
      "Label file: gs://test-climateiq-study-area-label-chunks/Manhattan/config_v1/Rainfall_Data_2.txt/3_2.npy\n",
      "    171/Unknown - 142s 690ms/step - loss: 0.0029 - mean_absolute_error: 0.0033 - root_mean_squared_error: 0.0539Finished creating feature and label tensors...\n",
      "Feature tensor shape: (1000, 1000, 8)\n",
      "Label tensor shape: (19, 1000, 1000)\n",
      "\n",
      "\n",
      "    189/Unknown - 155s 697ms/step - loss: 0.0032 - mean_absolute_error: 0.0034 - root_mean_squared_error: 0.0569Feature file: gs://test-climateiq-study-area-feature-chunks/Manhattan/scaled_chunk_3_4.npy\n",
      "Label file: gs://test-climateiq-study-area-label-chunks/Manhattan/config_v1/Rainfall_Data_2.txt/3_4.npy\n",
      "    190/Unknown - 156s 696ms/step - loss: 0.0033 - mean_absolute_error: 0.0034 - root_mean_squared_error: 0.0571Finished creating feature and label tensors...\n",
      "Feature tensor shape: (1000, 1000, 8)\n",
      "Label tensor shape: (19, 1000, 1000)\n",
      "\n",
      "\n",
      "    208/Unknown - 169s 701ms/step - loss: 0.0083 - mean_absolute_error: 0.0086 - root_mean_squared_error: 0.0913Feature file: gs://test-climateiq-study-area-feature-chunks/Manhattan/scaled_chunk_1_3.npy\n",
      "Label file: gs://test-climateiq-study-area-label-chunks/Manhattan/config_v1/Rainfall_Data_2.txt/1_3.npy\n",
      "    209/Unknown - 170s 701ms/step - loss: 0.0086 - mean_absolute_error: 0.0089 - root_mean_squared_error: 0.0930Finished creating feature and label tensors...\n",
      "Feature tensor shape: (1000, 1000, 8)\n",
      "Label tensor shape: (19, 1000, 1000)\n",
      "\n",
      "\n",
      "    227/Unknown - 182s 699ms/step - loss: 0.0080 - mean_absolute_error: 0.0082 - root_mean_squared_error: 0.0892Feature file: gs://test-climateiq-study-area-feature-chunks/Manhattan/scaled_chunk_2_10.npy\n",
      "Label file: gs://test-climateiq-study-area-label-chunks/Manhattan/config_v1/Rainfall_Data_2.txt/2_10.npy\n",
      "    228/Unknown - 183s 699ms/step - loss: 0.0079 - mean_absolute_error: 0.0082 - root_mean_squared_error: 0.0890Finished creating feature and label tensors...\n",
      "Feature tensor shape: (1000, 1000, 8)\n",
      "Label tensor shape: (19, 1000, 1000)\n",
      "\n",
      "\n",
      "    246/Unknown - 195s 698ms/step - loss: 0.0074 - mean_absolute_error: 0.0076 - root_mean_squared_error: 0.0858Feature file: gs://test-climateiq-study-area-feature-chunks/Manhattan/scaled_chunk_4_5.npy\n",
      "Label file: gs://test-climateiq-study-area-label-chunks/Manhattan/config_v1/Rainfall_Data_2.txt/4_5.npy\n",
      "    247/Unknown - 196s 697ms/step - loss: 0.0073 - mean_absolute_error: 0.0076 - root_mean_squared_error: 0.0856Finished creating feature and label tensors...\n",
      "Feature tensor shape: (1000, 1000, 8)\n",
      "Label tensor shape: (19, 1000, 1000)\n",
      "\n",
      "\n",
      "    265/Unknown - 209s 701ms/step - loss: 0.0090 - mean_absolute_error: 0.0097 - root_mean_squared_error: 0.0948Feature file: gs://test-climateiq-study-area-feature-chunks/Manhattan/scaled_chunk_1_8.npy\n",
      "Label file: gs://test-climateiq-study-area-label-chunks/Manhattan/config_v1/Rainfall_Data_2.txt/1_8.npy\n",
      "    266/Unknown - 210s 701ms/step - loss: 0.0091 - mean_absolute_error: 0.0098 - root_mean_squared_error: 0.0954Finished creating feature and label tensors...\n",
      "Feature tensor shape: (1000, 1000, 8)\n",
      "Label tensor shape: (19, 1000, 1000)\n",
      "\n",
      "\n",
      "    284/Unknown - 223s 704ms/step - loss: 0.0096 - mean_absolute_error: 0.0110 - root_mean_squared_error: 0.0979Feature file: gs://test-climateiq-study-area-feature-chunks/Manhattan/scaled_chunk_4_8.npy\n",
      "Label file: gs://test-climateiq-study-area-label-chunks/Manhattan/config_v1/Rainfall_Data_2.txt/4_8.npy\n",
      "    285/Unknown - 224s 703ms/step - loss: 0.0096 - mean_absolute_error: 0.0111 - root_mean_squared_error: 0.0981Finished creating feature and label tensors...\n",
      "Feature tensor shape: (1000, 1000, 8)\n",
      "Label tensor shape: (19, 1000, 1000)\n",
      "\n",
      "\n",
      "    303/Unknown - 236s 701ms/step - loss: 0.0091 - mean_absolute_error: 0.0105 - root_mean_squared_error: 0.0952Feature file: gs://test-climateiq-study-area-feature-chunks/Manhattan/scaled_chunk_0_10.npy\n",
      "Label file: gs://test-climateiq-study-area-label-chunks/Manhattan/config_v1/Rainfall_Data_2.txt/0_10.npy\n",
      "    304/Unknown - 237s 701ms/step - loss: 0.0090 - mean_absolute_error: 0.0104 - root_mean_squared_error: 0.0950Finished creating feature and label tensors...\n",
      "Feature tensor shape: (1000, 1000, 8)\n",
      "Label tensor shape: (19, 1000, 1000)\n",
      "\n",
      "\n",
      "304/304 [==============================] - 238s 707ms/step - loss: 0.0090 - mean_absolute_error: 0.0104 - root_mean_squared_error: 0.0950\n"
     ]
    },
    {
     "name": "stderr",
     "output_type": "stream",
     "text": [
      "2024-07-12 02:07:33.516015: I tensorflow/core/framework/local_rendezvous.cc:421] Local rendezvous recv item cancelled. Key hash: 8407357396938282367\n",
      "2024-07-12 02:07:33.516060: I tensorflow/core/framework/local_rendezvous.cc:421] Local rendezvous recv item cancelled. Key hash: 17750784473744422762\n",
      "2024-07-12 02:07:33.516070: I tensorflow/core/framework/local_rendezvous.cc:421] Local rendezvous recv item cancelled. Key hash: 11257665671103084562\n",
      "2024-07-12 02:07:33.516079: I tensorflow/core/framework/local_rendezvous.cc:421] Local rendezvous recv item cancelled. Key hash: 6175260011987052414\n",
      "2024-07-12 02:07:33.516088: I tensorflow/core/framework/local_rendezvous.cc:421] Local rendezvous recv item cancelled. Key hash: 1041984626222583270\n",
      "2024-07-12 02:07:33.516132: I tensorflow/core/framework/local_rendezvous.cc:421] Local rendezvous recv item cancelled. Key hash: 10955474594590592786\n"
     ]
    },
    {
     "data": {
      "text/plain": [
       "<keras.src.callbacks.History at 0x7f6c057cb250>"
      ]
     },
     "execution_count": 5,
     "metadata": {},
     "output_type": "execute_result"
    }
   ],
   "source": [
    "# Fit the model to the dataset\n",
    "model.fit(dataset, epochs=1)"
   ]
  },
  {
   "cell_type": "code",
   "execution_count": 5,
   "metadata": {},
   "outputs": [],
   "source": [
    "dataset = generator.load_dataset_windowed(sim_names, batch_size=1, max_chunks=8)\n",
    "input, labels = next(iter(dataset))\n",
    "prediction = model.call(input)\n",
    "prediction.shape, tf.math.reduce_max(prediction)"
   ]
  },
  {
   "cell_type": "code",
   "execution_count": 6,
   "metadata": {},
   "outputs": [
    {
     "name": "stdout",
     "output_type": "stream",
     "text": [
      "WARNING:tensorflow:Model's `__init__()` arguments contain non-serializable objects. Please implement a `get_config()` method in the subclassed Model for proper saving and loading. Defaulting to empty config.\n",
      "WARNING:tensorflow:Model's `__init__()` arguments contain non-serializable objects. Please implement a `get_config()` method in the subclassed Model for proper saving and loading. Defaulting to empty config.\n",
      "INFO:tensorflow:Assets written to: flood_model_tf213_20240711-190530/assets\n"
     ]
    },
    {
     "name": "stderr",
     "output_type": "stream",
     "text": [
      "INFO:tensorflow:Assets written to: flood_model_tf213_20240711-190530/assets\n"
     ]
    },
    {
     "name": "stdout",
     "output_type": "stream",
     "text": [
      "WARNING:tensorflow:Model's `__init__()` arguments contain non-serializable objects. Please implement a `get_config()` method in the subclassed Model for proper saving and loading. Defaulting to empty config.\n"
     ]
    },
    {
     "name": "stderr",
     "output_type": "stream",
     "text": [
      "WARNING:tensorflow:Model's `__init__()` arguments contain non-serializable objects. Please implement a `get_config()` method in the subclassed Model for proper saving and loading. Defaulting to empty config.\n"
     ]
    },
    {
     "name": "stdout",
     "output_type": "stream",
     "text": [
      "WARNING:tensorflow:Model's `__init__()` arguments contain non-serializable objects. Please implement a `get_config()` method in the subclassed Model for proper saving and loading. Defaulting to empty config.\n"
     ]
    },
    {
     "name": "stderr",
     "output_type": "stream",
     "text": [
      "WARNING:tensorflow:Model's `__init__()` arguments contain non-serializable objects. Please implement a `get_config()` method in the subclassed Model for proper saving and loading. Defaulting to empty config.\n"
     ]
    }
   ],
   "source": [
    "model.save_model('data/flood_model_tf213_20240711-190530')"
   ]
  },
  {
   "cell_type": "code",
   "execution_count": 7,
   "metadata": {},
   "outputs": [
    {
     "name": "stdout",
     "output_type": "stream",
     "text": [
      "Generating feature and label tensors...\n",
      "Fetching rainfall configuration...\n",
      "Configuration:  config_v1%2FRainfall_Data_1.txt\n",
      "Rainfall duration:  19\n",
      "The output label tensor will initially be of shape:  [1000, 1000, 19]\n",
      "Creating feature chunks...\n",
      "Creating label chunks...\n",
      "Length of common indices: 66\n",
      "Feature file: gs://test-climateiq-study-area-feature-chunks/Manhattan/scaled_chunk_2_3.npy\n",
      "Label file: gs://test-climateiq-study-area-label-chunks/Manhattan/config_v1/Rainfall_Data_1.txt/2_3.npy\n"
     ]
    },
    {
     "name": "stderr",
     "output_type": "stream",
     "text": [
      "2024-07-12 01:53:53.465962: W external/local_tsl/tsl/framework/cpu_allocator_impl.cc:83] Allocation of 76000000 exceeds 10% of free system memory.\n"
     ]
    },
    {
     "name": "stdout",
     "output_type": "stream",
     "text": [
      "Finished creating feature and label tensors...\n",
      "Feature tensor shape: (1000, 1000, 8)\n",
      "Label tensor shape: (19, 1000, 1000)\n",
      "\n",
      "\n",
      "Generating temporal tensors...\n",
      "Creating temporal chunks...\n",
      "Configuration:  config_v1%2FRainfall_Data_1.txt\n",
      "Fetching document: config_v1%2FRainfall_Data_1.txt\n",
      "Loading temporal tensor from gs://test-climateiq-study-area-feature-chunks/rainfall/config_v1/Rainfall_Data_1.npy...\n",
      "Temporal tensor shape:  (864, 6)\n"
     ]
    },
    {
     "name": "stderr",
     "output_type": "stream",
     "text": [
      "2024-07-12 01:53:54.273372: W external/local_tsl/tsl/framework/cpu_allocator_impl.cc:83] Allocation of 76000000 exceeds 10% of free system memory.\n",
      "2024-07-12 01:53:54.307598: W external/local_tsl/tsl/framework/cpu_allocator_impl.cc:83] Allocation of 76000000 exceeds 10% of free system memory.\n",
      "2024-07-12 01:53:54.498488: I external/local_xla/xla/stream_executor/cuda/cuda_dnn.cc:454] Loaded cuDNN version 8904\n"
     ]
    },
    {
     "data": {
      "text/plain": [
       "(TensorShape([1, 19, 1000, 1000]),\n",
       " <tf.Tensor: shape=(), dtype=float32, numpy=0.011001954>)"
      ]
     },
     "execution_count": 7,
     "metadata": {},
     "output_type": "execute_result"
    }
   ],
   "source": [
    "# Test call_n\n",
    "dataset = generator.load_dataset(sim_names, batch_size=1, max_chunks=1)\n",
    "input, labels = next(iter(dataset))\n",
    "\n",
    "(B, n, H, W) = labels.shape\n",
    "predictions = model.call_n(input, n=n)\n",
    "predictions.shape, tf.math.reduce_max(predictions)"
   ]
  }
 ],
 "metadata": {
  "kernelspec": {
   "display_name": "base",
   "language": "python",
   "name": "python3"
  },
  "language_info": {
   "codemirror_mode": {
    "name": "ipython",
    "version": 3
   },
   "file_extension": ".py",
   "mimetype": "text/x-python",
   "name": "python",
   "nbconvert_exporter": "python",
   "pygments_lexer": "ipython3",
   "version": "3.10.14"
  }
 },
 "nbformat": 4,
 "nbformat_minor": 2
}
