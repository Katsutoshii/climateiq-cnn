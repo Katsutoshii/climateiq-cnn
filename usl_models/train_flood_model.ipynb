{
 "cells": [
  {
   "cell_type": "code",
   "execution_count": 1,
   "metadata": {},
   "outputs": [
    {
     "name": "stdout",
     "output_type": "stream",
     "text": [
      "env: TF_FORCE_GPU_ALLOW_GROWTH=true\n"
     ]
    },
    {
     "name": "stderr",
     "output_type": "stream",
     "text": [
      "2024-07-09 03:28:10.079575: I tensorflow/core/util/port.cc:113] oneDNN custom operations are on. You may see slightly different numerical results due to floating-point round-off errors from different computation orders. To turn them off, set the environment variable `TF_ENABLE_ONEDNN_OPTS=0`.\n",
      "2024-07-09 03:28:10.129424: E external/local_xla/xla/stream_executor/cuda/cuda_dnn.cc:9261] Unable to register cuDNN factory: Attempting to register factory for plugin cuDNN when one has already been registered\n",
      "2024-07-09 03:28:10.129459: E external/local_xla/xla/stream_executor/cuda/cuda_fft.cc:607] Unable to register cuFFT factory: Attempting to register factory for plugin cuFFT when one has already been registered\n",
      "2024-07-09 03:28:10.130648: E external/local_xla/xla/stream_executor/cuda/cuda_blas.cc:1515] Unable to register cuBLAS factory: Attempting to register factory for plugin cuBLAS when one has already been registered\n",
      "2024-07-09 03:28:10.138484: I tensorflow/core/platform/cpu_feature_guard.cc:182] This TensorFlow binary is optimized to use available CPU instructions in performance-critical operations.\n",
      "To enable the following instructions: AVX2 AVX512F AVX512_VNNI FMA, in other operations, rebuild TensorFlow with the appropriate compiler flags.\n"
     ]
    },
    {
     "data": {
      "text/plain": [
       "[PhysicalDevice(name='/physical_device:GPU:0', device_type='GPU')]"
      ]
     },
     "execution_count": 1,
     "metadata": {},
     "output_type": "execute_result"
    }
   ],
   "source": [
    "%env TF_FORCE_GPU_ALLOW_GROWTH=true\n",
    "%load_ext autoreload\n",
    "%autoreload 2\n",
    "import tensorflow as tf\n",
    "tf.config.list_physical_devices('GPU')"
   ]
  },
  {
   "cell_type": "code",
   "execution_count": 2,
   "metadata": {},
   "outputs": [
    {
     "name": "stdout",
     "output_type": "stream",
     "text": [
      "Initializing IncrementalTrainDataGenerator...\n",
      "Initializing FirestoreDataHandler...\n",
      "Initializing FirestoreDataHandler...\n",
      "Generating rainfall duration for sim_name: Manhattan-config_v1%2FRainfall_Data_1.txt\n",
      "Finding documents under collection: simulations\n",
      "Found documents under collection: simulations\n",
      "Fetching rainfall configuration...\n",
      "Configuration:  config_v1%2FRainfall_Data_1.txt\n",
      "Rainfall duration:  19\n"
     ]
    }
   ],
   "source": [
    "from usl_models.flood_ml.trainingdataset import IncrementalTrainDataGenerator\n",
    "\n",
    "sim_name = \"Manhattan-config_v1%2FRainfall_Data_1.txt\"\n",
    "generator = IncrementalTrainDataGenerator(batch_size=1)\n",
    "dataset, storm_durations = generator.get_datasets_from_tensors([sim_name])\n"
   ]
  },
  {
   "cell_type": "code",
   "execution_count": 3,
   "metadata": {},
   "outputs": [
    {
     "name": "stderr",
     "output_type": "stream",
     "text": [
      "2024-07-09 03:28:15.854434: W tensorflow/core/common_runtime/gpu/gpu_bfc_allocator.cc:47] Overriding orig_value setting because the TF_FORCE_GPU_ALLOW_GROWTH environment variable is set. Original config value was 0.\n",
      "2024-07-09 03:28:15.855649: I tensorflow/core/common_runtime/gpu/gpu_device.cc:1929] Created device /job:localhost/replica:0/task:0/device:GPU:0 with 38364 MB memory:  -> device: 0, name: NVIDIA A100-SXM4-40GB, pci bus id: 0000:00:04.0, compute capability: 8.0\n"
     ]
    }
   ],
   "source": [
    "from usl_models.flood_ml.model import FloodModel\n",
    "from usl_models.flood_ml.model_params import FloodModelParams\n",
    "\n",
    "model = FloodModel(\n",
    "    model_params=FloodModelParams(batch_size=1))"
   ]
  },
  {
   "cell_type": "code",
   "execution_count": 4,
   "metadata": {},
   "outputs": [
    {
     "name": "stdout",
     "output_type": "stream",
     "text": [
      "Number of simulations: 1\n",
      "Starting training...\n",
      "Training on simulation: Manhattan-config_v1%2FRainfall_Data_1.txt, Storm Duration: 19\n",
      "Dataset generator: generating training data for sim_name:  Manhattan-config_v1%2FRainfall_Data_1.txt Storm Duration:  19\n",
      "Generating feature and label tensors...\n",
      "Finding documents under collection: simulations\n",
      "Found documents under collection: simulations\n",
      "Fetching rainfall configuration...\n",
      "Configuration:  config_v1%2FRainfall_Data_1.txt\n",
      "Rainfall duration:  19\n",
      "The output label tensor will initially be of shape:  [1000, 1000, 19]\n",
      "Creating feature chunks...\n",
      "Finding documents under collection: simulations\n",
      "Found documents under collection: simulations\n",
      "Creating label chunks...\n",
      "Finding documents under collection: simulations\n",
      "Found documents under collection: simulations\n",
      "Finding documents under collection: simulations\n",
      "Found documents under collection: simulations\n",
      "Length of common indices: 66\n",
      "Feature file: gs://test-climateiq-study-area-feature-chunks/Manhattan/chunk_0_0.npy\n",
      "Label file: gs://test-climateiq-study-area-label-chunks/Manhattan/config_v1/Rainfall_Data_1.txt/0_0.npy\n",
      "Finished creating feature and label tensors...\n",
      "Feature tensor shape: (1000, 1000, 8)\n",
      "Label tensor shape: (19, 1000, 1000)\n",
      "\n",
      "\n",
      "Generating temporal tensors...\n",
      "Creating temporal chunks...\n",
      "Finding documents under collection: simulations\n",
      "Found documents under collection: simulations\n",
      "Configuration:  config_v1%2FRainfall_Data_1.txt\n",
      "Fetching document: config_v1%2FRainfall_Data_1.txt\n",
      "Loading temporal tensor from gs://test-climateiq-study-area-feature-chunks/rainfall/config_v1/Rainfall_Data_1.npy...\n",
      "Temporal tensor shape:  (864, 6)\n",
      "Spatiotemporal tensor shape:  [1000, 1000, 1]\n",
      "Setting n_predictions to storm_duration: 19\n",
      "Feature file: gs://test-climateiq-study-area-feature-chunks/Manhattan/chunk_0_1.npy\n",
      "Label file: gs://test-climateiq-study-area-label-chunks/Manhattan/config_v1/Rainfall_Data_1.txt/0_1.npy\n"
     ]
    },
    {
     "name": "stderr",
     "output_type": "stream",
     "text": [
      "2024-07-09 03:28:20.631980: I external/local_tsl/tsl/profiler/lib/profiler_session.cc:104] Profiler session initializing.\n",
      "2024-07-09 03:28:20.632014: I external/local_tsl/tsl/profiler/lib/profiler_session.cc:119] Profiler session started.\n",
      "2024-07-09 03:28:20.632045: I external/local_xla/xla/backends/profiler/gpu/cupti_tracer.cc:1883] Profiler found 1 GPUs\n",
      "2024-07-09 03:28:20.652020: I external/local_tsl/tsl/profiler/lib/profiler_session.cc:131] Profiler session tear down.\n",
      "2024-07-09 03:28:20.652139: I external/local_xla/xla/backends/profiler/gpu/cupti_tracer.cc:2017] CUPTI activity buffer flushed\n"
     ]
    },
    {
     "name": "stdout",
     "output_type": "stream",
     "text": [
      "Finished creating feature and label tensors...\n",
      "Feature tensor shape: (1000, 1000, 8)\n",
      "Label tensor shape: (19, 1000, 1000)\n",
      "\n",
      "\n"
     ]
    },
    {
     "name": "stderr",
     "output_type": "stream",
     "text": [
      "2024-07-09 03:29:11.506244: E tensorflow/core/grappler/optimizers/meta_optimizer.cc:961] layout failed: INVALID_ARGUMENT: Size of values 0 does not match size of permutation 4 @ fanin shape inflood_conv_lstm/conv_lstm/conv_lstm2d/while/body/_1/flood_conv_lstm/conv_lstm/conv_lstm2d/while/dropout_7/SelectV2-2-TransposeNHWCToNCHW-LayoutOptimizer\n",
      "2024-07-09 03:29:24.410172: I external/local_xla/xla/stream_executor/cuda/cuda_dnn.cc:454] Loaded cuDNN version 8904\n"
     ]
    }
   ],
   "source": [
    "model.train(dataset, storm_durations)"
   ]
  }
 ],
 "metadata": {
  "kernelspec": {
   "display_name": "base",
   "language": "python",
   "name": "python3"
  },
  "language_info": {
   "codemirror_mode": {
    "name": "ipython",
    "version": 3
   },
   "file_extension": ".py",
   "mimetype": "text/x-python",
   "name": "python",
   "nbconvert_exporter": "python",
   "pygments_lexer": "ipython3",
   "version": "3.10.14"
  }
 },
 "nbformat": 4,
 "nbformat_minor": 2
}
